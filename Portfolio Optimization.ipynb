{
 "cells": [
  {
   "cell_type": "code",
   "execution_count": 1,
   "metadata": {},
   "outputs": [],
   "source": [
    "import datetime\n",
    "import numpy as np\n",
    "import pandas as pd\n",
    "import yfinance as yf\n",
    "from math import sqrt\n",
    "from pandas_datareader import data as pdr"
   ]
  },
  {
   "cell_type": "code",
   "execution_count": 2,
   "metadata": {
    "scrolled": true
   },
   "outputs": [
    {
     "name": "stdout",
     "output_type": "stream",
     "text": [
      "['SBIN.NS', 'AXISBANK.BO', 'IOC.BO', 'NMDC.BO', 'KRITIIND.BO', 'TATAPOWER.NS', 'AUROLAB.BO', 'RESONANCE.BO', 'ANDHRAPET.BO', 'MANALIPETC.BO', 'GAIL.NS', 'SAIL.NS', 'HDFCBANK.BO', 'ONGC.NS', 'INFY.BO', 'BHAGYAPROP.BO', 'FEDERALBNK.NS', 'WIPRO.BO', 'IDEA.NS', 'ALOKTEXT.BO', 'BANKBARODA.BO', 'BHEL.NS', 'DISHTV.BO', 'VEDL.BO', 'PTC.NS', 'PRESSMN.NS', 'VEDL.BO']\n"
     ]
    }
   ],
   "source": [
    "df = pd.read_csv(\"stocksymbols - Sheet1.csv\")\n",
    "syms = list(df['Symbol'])\n",
    "print(syms)"
   ]
  },
  {
   "cell_type": "code",
   "execution_count": 3,
   "metadata": {},
   "outputs": [],
   "source": [
    "start = \"2016-04-01\"\n",
    "end = str(int(start[:4]) + 3) + start[4:]\n",
    "eq = []\n",
    "for i in range(5):\n",
    "    e = pdr.get_data_yahoo(syms[i], start = start, end = end)\n",
    "    eq.append(e)\n",
    "    e['Daily Return'] = e['Close'] - e['Open']"
   ]
  },
  {
   "cell_type": "code",
   "execution_count": 4,
   "metadata": {},
   "outputs": [
    {
     "data": {
      "text/html": [
       "<div>\n",
       "<style scoped>\n",
       "    .dataframe tbody tr th:only-of-type {\n",
       "        vertical-align: middle;\n",
       "    }\n",
       "\n",
       "    .dataframe tbody tr th {\n",
       "        vertical-align: top;\n",
       "    }\n",
       "\n",
       "    .dataframe thead th {\n",
       "        text-align: right;\n",
       "    }\n",
       "</style>\n",
       "<table border=\"1\" class=\"dataframe\">\n",
       "  <thead>\n",
       "    <tr style=\"text-align: right;\">\n",
       "      <th></th>\n",
       "      <th>High</th>\n",
       "      <th>Low</th>\n",
       "      <th>Open</th>\n",
       "      <th>Close</th>\n",
       "      <th>Volume</th>\n",
       "      <th>Adj Close</th>\n",
       "      <th>Daily Return</th>\n",
       "    </tr>\n",
       "    <tr>\n",
       "      <th>Date</th>\n",
       "      <th></th>\n",
       "      <th></th>\n",
       "      <th></th>\n",
       "      <th></th>\n",
       "      <th></th>\n",
       "      <th></th>\n",
       "      <th></th>\n",
       "    </tr>\n",
       "  </thead>\n",
       "  <tbody>\n",
       "    <tr>\n",
       "      <th>2016-04-01</th>\n",
       "      <td>197.250000</td>\n",
       "      <td>192.000000</td>\n",
       "      <td>193.699997</td>\n",
       "      <td>195.649994</td>\n",
       "      <td>21752206.0</td>\n",
       "      <td>191.382736</td>\n",
       "      <td>1.949997</td>\n",
       "    </tr>\n",
       "    <tr>\n",
       "      <th>2016-04-04</th>\n",
       "      <td>197.449997</td>\n",
       "      <td>192.550003</td>\n",
       "      <td>197.300003</td>\n",
       "      <td>194.699997</td>\n",
       "      <td>15732565.0</td>\n",
       "      <td>190.453461</td>\n",
       "      <td>-2.600006</td>\n",
       "    </tr>\n",
       "    <tr>\n",
       "      <th>2016-04-05</th>\n",
       "      <td>194.550003</td>\n",
       "      <td>183.300003</td>\n",
       "      <td>193.899994</td>\n",
       "      <td>184.350006</td>\n",
       "      <td>36635637.0</td>\n",
       "      <td>180.329224</td>\n",
       "      <td>-9.549988</td>\n",
       "    </tr>\n",
       "    <tr>\n",
       "      <th>2016-04-06</th>\n",
       "      <td>185.500000</td>\n",
       "      <td>182.199997</td>\n",
       "      <td>185.000000</td>\n",
       "      <td>183.850006</td>\n",
       "      <td>16350631.0</td>\n",
       "      <td>179.840118</td>\n",
       "      <td>-1.149994</td>\n",
       "    </tr>\n",
       "    <tr>\n",
       "      <th>2016-04-07</th>\n",
       "      <td>185.649994</td>\n",
       "      <td>181.000000</td>\n",
       "      <td>183.800003</td>\n",
       "      <td>181.949997</td>\n",
       "      <td>19430601.0</td>\n",
       "      <td>177.981552</td>\n",
       "      <td>-1.850006</td>\n",
       "    </tr>\n",
       "  </tbody>\n",
       "</table>\n",
       "</div>"
      ],
      "text/plain": [
       "                  High         Low        Open       Close      Volume  \\\n",
       "Date                                                                     \n",
       "2016-04-01  197.250000  192.000000  193.699997  195.649994  21752206.0   \n",
       "2016-04-04  197.449997  192.550003  197.300003  194.699997  15732565.0   \n",
       "2016-04-05  194.550003  183.300003  193.899994  184.350006  36635637.0   \n",
       "2016-04-06  185.500000  182.199997  185.000000  183.850006  16350631.0   \n",
       "2016-04-07  185.649994  181.000000  183.800003  181.949997  19430601.0   \n",
       "\n",
       "             Adj Close  Daily Return  \n",
       "Date                                  \n",
       "2016-04-01  191.382736      1.949997  \n",
       "2016-04-04  190.453461     -2.600006  \n",
       "2016-04-05  180.329224     -9.549988  \n",
       "2016-04-06  179.840118     -1.149994  \n",
       "2016-04-07  177.981552     -1.850006  "
      ]
     },
     "execution_count": 4,
     "metadata": {},
     "output_type": "execute_result"
    }
   ],
   "source": [
    "eq[0].head()"
   ]
  },
  {
   "cell_type": "code",
   "execution_count": 5,
   "metadata": {
    "scrolled": true
   },
   "outputs": [],
   "source": [
    "for e in eq:\n",
    "    e['Daily Return'] = (e['Close'] - e['Open'])*100 / e['Open']"
   ]
  },
  {
   "cell_type": "code",
   "execution_count": 6,
   "metadata": {},
   "outputs": [],
   "source": [
    "for e in eq:\n",
    "    avg = np.mean(e['Daily Return'])\n",
    "    e['Ret - avg'] = e['Daily Return'] - avg"
   ]
  },
  {
   "cell_type": "code",
   "execution_count": 7,
   "metadata": {},
   "outputs": [],
   "source": [
    "m = eq[0].shape[0]\n",
    "n = len(eq)\n",
    "excess_return = np.zeros([m, n])\n",
    "for i in range(n):\n",
    "    excess_return[:, i] = eq[i]['Ret - avg']"
   ]
  },
  {
   "cell_type": "code",
   "execution_count": 8,
   "metadata": {},
   "outputs": [],
   "source": [
    "X = excess_return\n",
    "mat = np.dot(np.transpose(X), X)"
   ]
  },
  {
   "cell_type": "code",
   "execution_count": 9,
   "metadata": {},
   "outputs": [],
   "source": [
    "vcm = mat / m"
   ]
  },
  {
   "cell_type": "code",
   "execution_count": 10,
   "metadata": {},
   "outputs": [
    {
     "name": "stdout",
     "output_type": "stream",
     "text": [
      "[1.876151865979658, 1.7354930090540837, 1.8297082602550838, 1.8422035518432398, 3.851188770588137]\n"
     ]
    }
   ],
   "source": [
    "std = []\n",
    "for e in eq:\n",
    "    mean = np.mean(e['Daily Return'])\n",
    "    m = e.shape[0]\n",
    "    st = sqrt(np.sum((e['Daily Return'] - mean)**2) / m)\n",
    "    std.append(st)\n",
    "print(std)"
   ]
  },
  {
   "cell_type": "code",
   "execution_count": 11,
   "metadata": {},
   "outputs": [
    {
     "name": "stdout",
     "output_type": "stream",
     "text": [
      "(5, 1)\n"
     ]
    }
   ],
   "source": [
    "stds = np.array(std).reshape(-1, 1)\n",
    "print(stds.shape)"
   ]
  },
  {
   "cell_type": "code",
   "execution_count": 12,
   "metadata": {},
   "outputs": [
    {
     "data": {
      "text/plain": [
       "(5, 5)"
      ]
     },
     "execution_count": 12,
     "metadata": {},
     "output_type": "execute_result"
    }
   ],
   "source": [
    "product_std = np.dot(stds, np.transpose(stds))\n",
    "product_std.shape"
   ]
  },
  {
   "cell_type": "markdown",
   "metadata": {},
   "source": [
    "### Correlation\n",
    "**corr = variance_covariance_matrix / product_of_sds**"
   ]
  },
  {
   "cell_type": "code",
   "execution_count": 13,
   "metadata": {},
   "outputs": [
    {
     "name": "stdout",
     "output_type": "stream",
     "text": [
      "[[1.         0.39331504 0.18812314 0.30136006 0.12007307]\n",
      " [0.39331504 1.         0.17336731 0.1810741  0.07055679]\n",
      " [0.18812314 0.17336731 1.         0.23930562 0.0635524 ]\n",
      " [0.30136006 0.1810741  0.23930562 1.         0.14940654]\n",
      " [0.12007307 0.07055679 0.0635524  0.14940654 1.        ]]\n"
     ]
    }
   ],
   "source": [
    "corr = vcm / product_std\n",
    "print(corr)"
   ]
  },
  {
   "cell_type": "code",
   "execution_count": 14,
   "metadata": {},
   "outputs": [
    {
     "data": {
      "text/plain": [
       "(5, 1)"
      ]
     },
     "execution_count": 14,
     "metadata": {},
     "output_type": "execute_result"
    }
   ],
   "source": [
    "weights = np.array([0.2, 0.2, 0.2, 0.2, 0.2]).reshape(-1, 1)\n",
    "weights.shape"
   ]
  },
  {
   "cell_type": "code",
   "execution_count": 15,
   "metadata": {},
   "outputs": [
    {
     "name": "stdout",
     "output_type": "stream",
     "text": [
      "[[0.37523037]\n",
      " [0.3470986 ]\n",
      " [0.36594165]\n",
      " [0.36844071]\n",
      " [0.77023775]] [[1.87615187]\n",
      " [1.73549301]\n",
      " [1.82970826]\n",
      " [1.84220355]\n",
      " [3.85118877]]\n"
     ]
    }
   ],
   "source": [
    "weighted_sd = stds * weights\n",
    "print(weighted_sd, stds)"
   ]
  },
  {
   "cell_type": "markdown",
   "metadata": {},
   "source": [
    "### Portfolio Variance\n",
    "**Portfolio Variance = Sqrt (Transpose (Wt.SD) * Correlation Matrix * Wt. SD)**"
   ]
  },
  {
   "cell_type": "code",
   "execution_count": 16,
   "metadata": {},
   "outputs": [
    {
     "data": {
      "text/plain": [
       "1.7442879620426066"
      ]
     },
     "execution_count": 16,
     "metadata": {},
     "output_type": "execute_result"
    }
   ],
   "source": [
    "portfolio_var = np.dot(np.dot(np.transpose(weighted_sd), corr), weighted_sd)\n",
    "portfolio_var[0][0]"
   ]
  },
  {
   "cell_type": "code",
   "execution_count": 17,
   "metadata": {},
   "outputs": [
    {
     "data": {
      "text/plain": [
       "1.3207149435221086"
      ]
     },
     "execution_count": 17,
     "metadata": {},
     "output_type": "execute_result"
    }
   ],
   "source": [
    "final_pv = sqrt(portfolio_var[0][0])\n",
    "final_pv"
   ]
  },
  {
   "cell_type": "markdown",
   "metadata": {},
   "source": [
    "### Maximizing Returns by fixing Portfolio Variance\n",
    "#### Monte-Carlo Method: Using randomly generated weights\n",
    "#### Monthly, Quarterly, Half-Yearly, Yearly Average Returns"
   ]
  },
  {
   "cell_type": "code",
   "execution_count": 18,
   "metadata": {},
   "outputs": [
    {
     "name": "stdout",
     "output_type": "stream",
     "text": [
      "Monthly Avg Returns: [1.3864967281003655, 1.5220900943154332, 1.4226680341563298, 0.485194758014537, -0.9190434204316461]\n",
      "Quarterly Avg Return: [4.8337968860190275, 5.1027703777242905, 5.2284894993381466, 0.6124079187611445, -1.1141471228940116]\n",
      "Half Yearly Avg Return: [9.928907092626503, 9.412930512271943, 10.528820831093652, 0.6485528653539521, -0.7952194767056081]\n",
      "Yearly Avg Return: [21.47260213692978, 21.24438064498441, 25.803607028716062, 3.570638202605776, 3.540235745283086]\n"
     ]
    }
   ],
   "source": [
    "monthly_avg = []\n",
    "quarterly_avg = []\n",
    "half_yearly_avg = []\n",
    "yearly_avg = []\n",
    "for e in eq:\n",
    "    monthly = 0\n",
    "    quarterly = 0\n",
    "    half_yearly = 0\n",
    "    yearly = 0\n",
    "    # monthly\n",
    "    start = \"2016-04-01\"\n",
    "    for i in range(36):\n",
    "        end = start[:5]\n",
    "        month = int(start[5:7]) + 1\n",
    "        if month <= 9:\n",
    "            end += '0' + str(month) + start[7:]\n",
    "        elif month > 12:\n",
    "            end = str(int(start[:4]) + 1) + '-01-01'\n",
    "        else:\n",
    "            end += str(month) + start[7:]\n",
    "        sliced_data = e.loc[(e.index >= start) & (e.index <= end)]\n",
    "        monthly += (sliced_data.iloc[-1]['Close'] - sliced_data.iloc[0]['Open']) / sliced_data.iloc[0]['Open']\n",
    "        start = end\n",
    "    # quarterly\n",
    "    start = \"2016-04-01\"\n",
    "    for i in range(12):\n",
    "        end = start[:5]\n",
    "        month = int(start[5:7]) + 3\n",
    "        if month <= 9:\n",
    "            end += '0' + str(month) + start[7:]\n",
    "        elif month == 13:\n",
    "            end = str(int(start[:4]) + 1) + '-01-01'\n",
    "        else:\n",
    "            end += str(month) + start[7:]\n",
    "        sliced_data = e.loc[(e.index >= start) & (e.index <= end)]\n",
    "        quarterly += (sliced_data.iloc[-1]['Close'] - sliced_data.iloc[0]['Open']) / sliced_data.iloc[0]['Open']\n",
    "        start = end\n",
    "    # half-yearly\n",
    "    start = \"2016-04-01\"\n",
    "    for i in range(6):\n",
    "        end = start[:5]\n",
    "        month = int(start[5:7]) + 6\n",
    "        if month == 16:\n",
    "            end = str(int(start[:4]) + 1) + '-04-01'\n",
    "        else:\n",
    "            end += str(month) + start[7:]\n",
    "        sliced_data = e.loc[(e.index >= start) & (e.index <= end)]\n",
    "        half_yearly += (sliced_data.iloc[-1]['Close'] - sliced_data.iloc[0]['Open']) / sliced_data.iloc[0]['Open']\n",
    "        start = end\n",
    "    # yearly\n",
    "    start = \"2016-04-01\"\n",
    "    for i in range(3):\n",
    "        end = str(int(start[:4]) + 1) + start[4:]\n",
    "        sliced_data = e.loc[(e.index >= start) & (e.index <= end)]\n",
    "        yearly += (sliced_data.iloc[-1]['Close'] - sliced_data.iloc[0]['Open']) / sliced_data.iloc[0]['Open']\n",
    "        start = end\n",
    "    monthly_avg.append(monthly*100/36)\n",
    "    quarterly_avg.append(quarterly*100/12)\n",
    "    half_yearly_avg.append(half_yearly*100/6)\n",
    "    yearly_avg.append(yearly*100/3)\n",
    "\n",
    "avgs = [monthly_avg, quarterly_avg, half_yearly_avg, yearly_avg]\n",
    "print(f\"Monthly Avg Returns: {monthly_avg}\")\n",
    "print(f\"Quarterly Avg Return: {quarterly_avg}\")\n",
    "print(f\"Half Yearly Avg Return: {half_yearly_avg}\")\n",
    "print(f\"Yearly Avg Return: {yearly_avg}\")"
   ]
  },
  {
   "cell_type": "code",
   "execution_count": 19,
   "metadata": {},
   "outputs": [
    {
     "name": "stdout",
     "output_type": "stream",
     "text": [
      "[1.3864967281003655, 1.5220900943154332, 1.4226680341563298, 0.485194758014537, -0.9190434204316461]\n",
      "[[0.13882563 0.0732264  0.13213049 0.54854921 0.10726827]]\n",
      "[[ 0.19248128  0.11145718  0.18797782  0.2661532  -0.0985842 ]]\n",
      "0.6594852829572557\n",
      "[4.8337968860190275, 5.1027703777242905, 5.2284894993381466, 0.6124079187611445, -1.1141471228940116]\n",
      "[[0.13731262 0.04156266 0.03773539 0.09721468 0.68617465]]\n",
      "[[ 0.66374133  0.21208469  0.19729908  0.05953504 -0.76449951]]\n",
      "0.3681606323571027\n",
      "[9.928907092626503, 9.412930512271943, 10.528820831093652, 0.6485528653539521, -0.7952194767056081]\n",
      "[[0.20322202 0.42841738 0.07988923 0.09466311 0.19380826]]\n",
      "[[ 2.01777256  4.03266303  0.84113935  0.06139403 -0.1541201 ]]\n",
      "6.798848865114897\n",
      "[21.47260213692978, 21.24438064498441, 25.803607028716062, 3.570638202605776, 3.540235745283086]\n",
      "[[0.0170565  0.0134307  0.38624071 0.11225079 0.4710213 ]]\n",
      "[[0.36624749 0.28532689 9.96640349 0.40080697 1.66752643]]\n",
      "12.686311260837856\n"
     ]
    }
   ],
   "source": [
    "for avg in avgs:\n",
    "    random_weights = np.random.dirichlet(np.ones(5), size = 1).T\n",
    "    total_return = avg * random_weights.T\n",
    "    print(avg)\n",
    "    print(random_weights.T)\n",
    "    print(total_return)\n",
    "    print(np.sum(total_return))"
   ]
  },
  {
   "cell_type": "markdown",
   "metadata": {},
   "source": [
    "#### Annual Return"
   ]
  },
  {
   "cell_type": "code",
   "execution_count": 20,
   "metadata": {},
   "outputs": [
    {
     "name": "stdout",
     "output_type": "stream",
     "text": [
      "[[ 66.62364744  72.45576155  62.03303064   5.30265454 -13.67127177]]\n",
      "[[1.51571350e-01 1.17332518e-04 2.20479811e-01 4.52997402e-01\n",
      "  1.74834104e-01]]\n",
      "[[ 1.00982362e+01  8.50141698e-03  1.36770309e+01  2.40208873e+00\n",
      "  -2.39020455e+00]]\n",
      "23.795652672030528\n",
      "[[ 66.62364744  72.45576155  62.03303064   5.30265454 -13.67127177]]\n",
      "[[0.37970635 0.12878146 0.39448123 0.03331765 0.0637133 ]]\n",
      "[[25.29742219  9.33095911 24.4708665   0.17667199 -0.87104181]]\n",
      "58.404877985528834\n",
      "[[ 66.62364744  72.45576155  62.03303064   5.30265454 -13.67127177]]\n",
      "[[0.4095546  0.26357323 0.03865543 0.28450087 0.00371587]]\n",
      "[[27.28602139 19.09739902  2.39791342  1.50860981 -0.05080073]]\n",
      "50.239142911758414\n",
      "[[ 66.62364744  72.45576155  62.03303064   5.30265454 -13.67127177]]\n",
      "[[0.12722201 0.197121   0.39291465 0.08015447 0.20258788]]\n",
      "[[ 8.47599424 14.2825519  24.37368668  0.42503145 -2.76963391]]\n",
      "44.78763036428646\n"
     ]
    }
   ],
   "source": [
    "ann_ret = []\n",
    "for e in eq:\n",
    "    ret = (e.iloc[-1]['Close'] - e.iloc[0]['Open'])*100 / e.iloc[0]['Open']\n",
    "    ann_ret.append(ret)\n",
    "annual_return = np.array(ann_ret).reshape(-1, 1)\n",
    "for avg in avgs:\n",
    "    random_weights = np.random.dirichlet(np.ones(5), size = 1).T\n",
    "    total_return = annual_return.T * random_weights.T\n",
    "    print(annual_return.T)\n",
    "    print(random_weights.T)\n",
    "    print(total_return)\n",
    "    print(np.sum(total_return))"
   ]
  },
  {
   "cell_type": "code",
   "execution_count": 21,
   "metadata": {},
   "outputs": [
    {
     "name": "stdout",
     "output_type": "stream",
     "text": [
      "Best Performance: Quarterly\n",
      "Best Return: 66.02045762161664, Minimum Portfolio Variance: 1.269802149185382\n",
      "Best Weights: [[0.19481494]\n",
      " [0.42967363]\n",
      " [0.35593298]\n",
      " [0.00510736]\n",
      " [0.01447109]], Sum of weights: 0.9999999999999999\n"
     ]
    }
   ],
   "source": [
    "types = ['Monthly', 'Quarterly', 'Half-Yearly', 'Yearly']\n",
    "best_wts_for_avgs = []\n",
    "annual_returns_for_avgs = []\n",
    "port_vars_for_avgs = []\n",
    "for avg in avgs:\n",
    "    min_port_var = 1.22\n",
    "    max_port_var = 1.27\n",
    "    port_vars = []\n",
    "    returns = []\n",
    "    rand_wts = []\n",
    "    for i in range(0, 20000):\n",
    "        random_weights = np.random.dirichlet(np.ones(5), size = 1).T\n",
    "        random_weighted_sd = stds * random_weights\n",
    "        portfolio_var = sqrt(np.sum(np.dot(np.dot(np.transpose(random_weighted_sd), corr), random_weighted_sd)))\n",
    "        if (portfolio_var >= min_port_var) & (portfolio_var <= max_port_var):\n",
    "            port_vars.append(portfolio_var)\n",
    "            rand_wts.append(random_weights)\n",
    "            total_return = np.sum(avg * random_weights.T)\n",
    "            returns.append(total_return)\n",
    "    max_index = returns.index(max(returns))\n",
    "    max_return = returns[max_index]\n",
    "    best_wts = rand_wts[max_index]\n",
    "    min_var = port_vars[max_index]\n",
    "\n",
    "    best_wts_for_avgs.append(best_wts)\n",
    "    port_vars_for_avgs.append(min_var)\n",
    "    annual_ret = np.sum(best_wts * annual_return)\n",
    "    annual_returns_for_avgs.append(annual_ret)\n",
    "\n",
    "max_index = annual_returns_for_avgs.index(max(annual_returns_for_avgs))\n",
    "maximum_return = annual_returns_for_avgs[max_index]\n",
    "bestest_wts = best_wts_for_avgs[max_index]\n",
    "miniest_var = port_vars_for_avgs[max_index]\n",
    "print(f\"Best Performance: {types[max_index]}\")\n",
    "print(f\"Best Return: {maximum_return}, Minimum Portfolio Variance: {miniest_var}\")\n",
    "print(f\"Best Weights: {bestest_wts}, Sum of weights: {np.sum(bestest_wts)}\")"
   ]
  },
  {
   "cell_type": "code",
   "execution_count": 22,
   "metadata": {},
   "outputs": [
    {
     "name": "stdout",
     "output_type": "stream",
     "text": [
      "{'Monthly': 65.29814113885729, 'Quarterly': 66.02045762161664, 'Half-Yearly': 65.39435402126622, 'Yearly': 65.16165703787783}\n"
     ]
    }
   ],
   "source": [
    "ordered_types = {}\n",
    "for i in range(4):\n",
    "    ordered_types[types[i]] = annual_returns_for_avgs[i]\n",
    "print(ordered_types)"
   ]
  },
  {
   "cell_type": "markdown",
   "metadata": {},
   "source": [
    "### Minimizing Portfolio Variance"
   ]
  },
  {
   "cell_type": "markdown",
   "metadata": {},
   "source": [
    "#### Monte-Carlo Method: Using randomly generated weights"
   ]
  },
  {
   "cell_type": "code",
   "execution_count": 23,
   "metadata": {
    "scrolled": true
   },
   "outputs": [
    {
     "name": "stdout",
     "output_type": "stream",
     "text": [
      "Best Weights: [[0.14222324]\n",
      " [0.30742436]\n",
      " [0.25680305]\n",
      " [0.25962734]\n",
      " [0.03392201]], Minimum Portfolio Variance: 1.17903482967811, Sum of weights: 0.9999999999999999\n",
      "Return: 48.59332608945021\n"
     ]
    }
   ],
   "source": [
    "port_vars = []\n",
    "rand_wts = []\n",
    "for i in range(0, 10000):\n",
    "    random_weights = np.random.dirichlet(np.ones(5), size = 1).T\n",
    "    rand_wts.append(random_weights)\n",
    "    random_weighted_sd = stds * random_weights\n",
    "    portfolio_var = sqrt(np.sum(np.dot(np.dot(np.transpose(random_weighted_sd), corr), random_weighted_sd)))\n",
    "    port_vars.append(portfolio_var)\n",
    "min_index = port_vars.index(min(port_vars))\n",
    "best_wts = rand_wts[min_index]\n",
    "min_var = port_vars[min_index]\n",
    "net_return = annual_return * best_wts\n",
    "print(f\"Best Weights: {best_wts}, Minimum Portfolio Variance: {min_var}, Sum of weights: {np.sum(best_wts)}\")\n",
    "print(f\"Return: {np.sum(net_return)}\")"
   ]
  },
  {
   "cell_type": "markdown",
   "metadata": {},
   "source": [
    "### Maximizing Sharpe Ratio"
   ]
  },
  {
   "cell_type": "markdown",
   "metadata": {},
   "source": [
    "#### Monte-Carlo Method: Using randomly generated weights"
   ]
  },
  {
   "cell_type": "code",
   "execution_count": 24,
   "metadata": {},
   "outputs": [
    {
     "name": "stdout",
     "output_type": "stream",
     "text": [
      "51.47134667992929\n"
     ]
    },
    {
     "data": {
      "text/plain": [
       "Date\n",
       "2016-04-01    51.471347\n",
       "2016-04-04    51.471347\n",
       "2016-04-05    51.471347\n",
       "2016-04-06    51.471347\n",
       "2016-04-07    51.471347\n",
       "                ...    \n",
       "2017-03-27    51.471347\n",
       "2017-03-28    51.471347\n",
       "2017-03-29    51.471347\n",
       "2017-03-30    51.471347\n",
       "2017-03-31    51.471347\n",
       "Name: Daily Return, Length: 247, dtype: float64"
      ]
     },
     "execution_count": 24,
     "metadata": {},
     "output_type": "execute_result"
    }
   ],
   "source": [
    "start = \"2016-04-01\"\n",
    "end = str(int(start[:4]) + 1) + start[4:]\n",
    "e = pdr.get_data_yahoo(\"SBIN.NS\", start = start, end = \"2019-04-01\")\n",
    "e['Daily Return'] = 0\n",
    "sliced_data = e.loc[(e.index >= start) & (e.index <= end)]\n",
    "year_avg = (sliced_data.iloc[-1]['Close'] - sliced_data.iloc[0]['Open'])*100 / sliced_data.iloc[0]['Open']\n",
    "e.loc[sliced_data.index, 'Daily Return'] = year_avg\n",
    "print(year_avg)\n",
    "e.loc[sliced_data.index]['Daily Return']"
   ]
  },
  {
   "cell_type": "code",
   "execution_count": 25,
   "metadata": {},
   "outputs": [],
   "source": [
    "eq = []\n",
    "for i in range(5):\n",
    "    start = \"2016-04-01\"\n",
    "    end = str(int(start[:4]) + 3) + start[4:]\n",
    "    e = pdr.get_data_yahoo(syms[i], start = start, end = end)\n",
    "    eq.append(e)\n",
    "    e['Daily Return'] = 0\n",
    "    start = \"2016-04-01\"\n",
    "    #e['Daily Return'] = (e['Close'] - e['Open'])*100 / e['Open']\n",
    "    for j in range(3):\n",
    "        end = str(int(start[:4]) + 1) + start[4:]\n",
    "        sliced_data = e.loc[(e.index >= start) & (e.index <= end)]\n",
    "        year_avg = (sliced_data.iloc[-1]['Close'] - sliced_data.iloc[0]['Open'])*100 / sliced_data.iloc[0]['Open']\n",
    "        e.loc[sliced_data.index, 'Daily Return'] = year_avg\n",
    "        start = end\n",
    "        #print(e.loc[sliced_data.index, 'Daily Return'].tail(2))"
   ]
  },
  {
   "cell_type": "markdown",
   "metadata": {},
   "source": [
    "#### Yearly Average Return"
   ]
  },
  {
   "cell_type": "code",
   "execution_count": 26,
   "metadata": {},
   "outputs": [
    {
     "name": "stdout",
     "output_type": "stream",
     "text": [
      "(5, 1) [[21.47260214]\n",
      " [21.24438064]\n",
      " [25.80360703]\n",
      " [ 3.5706382 ]\n",
      " [ 3.54023575]]\n"
     ]
    }
   ],
   "source": [
    "avg_return = []\n",
    "for e in eq:\n",
    "    ret = 0\n",
    "    start = \"2016-04-01\"\n",
    "    for i in range(3):\n",
    "        end = str(int(start[:4]) + 1) + start[4:]\n",
    "        sliced_data = e.loc[(e.index >= start) & (e.index <= end)]\n",
    "        ret += (sliced_data.iloc[-1]['Close'] - sliced_data.iloc[0]['Open']) / sliced_data.iloc[0]['Open']\n",
    "        start = end\n",
    "    avg_return.append(ret*100/3)\n",
    "yearly_avg_return = np.array(avg_return).reshape(-1, 1)\n",
    "print(yearly_avg_return.shape, yearly_avg_return)"
   ]
  },
  {
   "cell_type": "code",
   "execution_count": 27,
   "metadata": {},
   "outputs": [
    {
     "name": "stdout",
     "output_type": "stream",
     "text": [
      "[[0.06185884]\n",
      " [0.06429266]\n",
      " [0.27952752]\n",
      " [0.17299986]\n",
      " [0.42132111]]\n",
      "[[1.32827032]\n",
      " [1.36585765]\n",
      " [7.2128184 ]\n",
      " [0.61771992]\n",
      " [1.49157607]]\n",
      "12.01624236592427\n"
     ]
    }
   ],
   "source": [
    "random_weights = np.random.dirichlet(np.ones(5), size = 1).T\n",
    "excess_ret = yearly_avg_return * random_weights\n",
    "print(random_weights)\n",
    "print(excess_ret)\n",
    "print(np.sum(excess_ret))"
   ]
  },
  {
   "cell_type": "code",
   "execution_count": 28,
   "metadata": {},
   "outputs": [],
   "source": [
    "count = 0\n",
    "for e in eq:\n",
    "    e['Ret - avg'] = e['Daily Return'] - yearly_avg_return[count]\n",
    "    count += 1"
   ]
  },
  {
   "cell_type": "code",
   "execution_count": 29,
   "metadata": {},
   "outputs": [],
   "source": [
    "m = eq[0].shape[0]\n",
    "n = len(eq)\n",
    "excess_return = np.zeros([m, n])\n",
    "for i in range(n):\n",
    "    excess_return[:, i] = eq[i]['Ret - avg']"
   ]
  },
  {
   "cell_type": "code",
   "execution_count": 30,
   "metadata": {},
   "outputs": [],
   "source": [
    "X = excess_return\n",
    "mat = np.dot(np.transpose(X), X)"
   ]
  },
  {
   "cell_type": "code",
   "execution_count": 31,
   "metadata": {},
   "outputs": [],
   "source": [
    "vcm = mat / m"
   ]
  },
  {
   "cell_type": "code",
   "execution_count": 32,
   "metadata": {},
   "outputs": [
    {
     "name": "stdout",
     "output_type": "stream",
     "text": [
      "[27.62632166327554, 20.716227675044177, 50.05913640711804, 20.934839927246518, 37.22752483268484]\n"
     ]
    }
   ],
   "source": [
    "std = []\n",
    "count = 0\n",
    "for e in eq:\n",
    "    mean = yearly_avg_return[count]\n",
    "    m = e.shape[0]\n",
    "    st = sqrt(np.sum((e['Daily Return'] - mean)**2) / m)\n",
    "    std.append(st)\n",
    "    count += 1\n",
    "print(std)"
   ]
  },
  {
   "cell_type": "code",
   "execution_count": 33,
   "metadata": {},
   "outputs": [
    {
     "name": "stdout",
     "output_type": "stream",
     "text": [
      "(5, 1)\n"
     ]
    }
   ],
   "source": [
    "stds = np.array(std).reshape(-1, 1)\n",
    "print(stds.shape)"
   ]
  },
  {
   "cell_type": "code",
   "execution_count": 34,
   "metadata": {},
   "outputs": [
    {
     "data": {
      "text/plain": [
       "(5, 5)"
      ]
     },
     "execution_count": 34,
     "metadata": {},
     "output_type": "execute_result"
    }
   ],
   "source": [
    "product_std = np.dot(stds, np.transpose(stds))\n",
    "product_std.shape"
   ]
  },
  {
   "cell_type": "markdown",
   "metadata": {},
   "source": [
    "### Correlation\n",
    "**corr = variance_covariance_matrix / product_of_sds**"
   ]
  },
  {
   "cell_type": "code",
   "execution_count": 35,
   "metadata": {},
   "outputs": [
    {
     "name": "stdout",
     "output_type": "stream",
     "text": [
      "[[ 1.          0.31835789  0.76057095  0.76473878 -0.08952942]\n",
      " [ 0.31835789  1.         -0.37334073 -0.36735516 -0.97266612]\n",
      " [ 0.76057095 -0.37334073  1.          0.99997924  0.57855406]\n",
      " [ 0.76473878 -0.36735516  0.99997924  1.          0.57328625]\n",
      " [-0.08952942 -0.97266612  0.57855406  0.57328625  1.        ]]\n"
     ]
    }
   ],
   "source": [
    "corr = vcm / product_std\n",
    "print(corr)"
   ]
  },
  {
   "cell_type": "code",
   "execution_count": 36,
   "metadata": {},
   "outputs": [
    {
     "name": "stdout",
     "output_type": "stream",
     "text": [
      "Max Sharpe Ratio: 0.5175986260505181\n",
      "Best Weights: [[0.01106247]\n",
      " [0.63111707]\n",
      " [0.02555543]\n",
      " [0.01892772]\n",
      " [0.31333732]]\n",
      "Portfolio Variance: 4.709808374390654, Sum of weights: 1.0\n",
      "Max Return: 15.481525375040803\n"
     ]
    }
   ],
   "source": [
    "srs = []\n",
    "portfolio_vars = []\n",
    "rand_wts = []\n",
    "portfolio_return = []\n",
    "risk_free_rate = 4\n",
    "for i in range(0, 10000):\n",
    "    random_weights = np.random.dirichlet(np.ones(5), size = 1).T\n",
    "    rand_wts.append(random_weights)\n",
    "    random_weighted_sd = stds * random_weights\n",
    "    portfolio_std = np.sum(np.dot(np.dot(np.transpose(random_weighted_sd), corr), random_weighted_sd))\n",
    "    portfolio_vars.append(sqrt(portfolio_std))\n",
    "    excess_return = np.sum(yearly_avg_return * random_weights)\n",
    "    portfolio_return.append(excess_return)\n",
    "    sharpe_ratio = (excess_return - risk_free_rate) / portfolio_std\n",
    "    srs.append(sharpe_ratio)\n",
    "max_index = srs.index(max(srs))\n",
    "best_wts = rand_wts[max_index]\n",
    "max_sr = srs[max_index]\n",
    "portfolio_var = portfolio_vars[max_index]\n",
    "max_return = portfolio_return[max_index]\n",
    "print(f\"Max Sharpe Ratio: {max_sr}\")\n",
    "print(f\"Best Weights: {best_wts}\")\n",
    "print(f\"Portfolio Variance: {portfolio_var}, Sum of weights: {np.sum(best_wts)}\")\n",
    "print(f\"Max Return: {max_return}\")"
   ]
  }
 ],
 "metadata": {
  "kernelspec": {
   "display_name": "Python 3",
   "language": "python",
   "name": "python3"
  },
  "language_info": {
   "codemirror_mode": {
    "name": "ipython",
    "version": 3
   },
   "file_extension": ".py",
   "mimetype": "text/x-python",
   "name": "python",
   "nbconvert_exporter": "python",
   "pygments_lexer": "ipython3",
   "version": "3.7.6"
  }
 },
 "nbformat": 4,
 "nbformat_minor": 4
}
