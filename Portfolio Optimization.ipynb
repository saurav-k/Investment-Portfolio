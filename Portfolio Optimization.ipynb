{
 "cells": [
  {
   "cell_type": "code",
   "execution_count": 1,
   "metadata": {},
   "outputs": [],
   "source": [
    "import numpy as np\n",
    "import yfinance as yf\n",
    "from math import sqrt\n",
    "from pandas_datareader import data as pdr"
   ]
  },
  {
   "cell_type": "code",
   "execution_count": 2,
   "metadata": {},
   "outputs": [],
   "source": [
    "eq = []\n",
    "syms = ['SBIN.NS', 'AXISBANK.BO', 'IOC.BO', 'NMDC.BO', 'KRITIIND.BO']\n",
    "for i in range(5):\n",
    "    eq.append(pdr.get_data_yahoo(syms[i], start = '2016-07-02', end = '2019-07-02'))"
   ]
  },
  {
   "cell_type": "markdown",
   "metadata": {},
   "source": [
    "#### Saving data in csvs"
   ]
  },
  {
   "cell_type": "code",
   "execution_count": 3,
   "metadata": {},
   "outputs": [],
   "source": [
    "for i in range(5):\n",
    "    eq[i].to_csv(f\"{syms[i]}.csv\", index = False)"
   ]
  },
  {
   "cell_type": "code",
   "execution_count": 4,
   "metadata": {},
   "outputs": [
    {
     "data": {
      "text/html": [
       "<div>\n",
       "<style scoped>\n",
       "    .dataframe tbody tr th:only-of-type {\n",
       "        vertical-align: middle;\n",
       "    }\n",
       "\n",
       "    .dataframe tbody tr th {\n",
       "        vertical-align: top;\n",
       "    }\n",
       "\n",
       "    .dataframe thead th {\n",
       "        text-align: right;\n",
       "    }\n",
       "</style>\n",
       "<table border=\"1\" class=\"dataframe\">\n",
       "  <thead>\n",
       "    <tr style=\"text-align: right;\">\n",
       "      <th></th>\n",
       "      <th>High</th>\n",
       "      <th>Low</th>\n",
       "      <th>Open</th>\n",
       "      <th>Close</th>\n",
       "      <th>Volume</th>\n",
       "      <th>Adj Close</th>\n",
       "    </tr>\n",
       "    <tr>\n",
       "      <th>Date</th>\n",
       "      <th></th>\n",
       "      <th></th>\n",
       "      <th></th>\n",
       "      <th></th>\n",
       "      <th></th>\n",
       "      <th></th>\n",
       "    </tr>\n",
       "  </thead>\n",
       "  <tbody>\n",
       "    <tr>\n",
       "      <th>2016-07-04</th>\n",
       "      <td>224.350006</td>\n",
       "      <td>222.000000</td>\n",
       "      <td>222.350006</td>\n",
       "      <td>223.000000</td>\n",
       "      <td>16534518.0</td>\n",
       "      <td>221.001373</td>\n",
       "    </tr>\n",
       "    <tr>\n",
       "      <th>2016-07-05</th>\n",
       "      <td>225.149994</td>\n",
       "      <td>221.550003</td>\n",
       "      <td>223.250000</td>\n",
       "      <td>223.500000</td>\n",
       "      <td>15357018.0</td>\n",
       "      <td>221.496887</td>\n",
       "    </tr>\n",
       "    <tr>\n",
       "      <th>2016-07-07</th>\n",
       "      <td>224.600006</td>\n",
       "      <td>219.350006</td>\n",
       "      <td>223.899994</td>\n",
       "      <td>220.050003</td>\n",
       "      <td>12917872.0</td>\n",
       "      <td>218.077820</td>\n",
       "    </tr>\n",
       "    <tr>\n",
       "      <th>2016-07-08</th>\n",
       "      <td>220.850006</td>\n",
       "      <td>216.500000</td>\n",
       "      <td>220.149994</td>\n",
       "      <td>218.300003</td>\n",
       "      <td>16017389.0</td>\n",
       "      <td>216.343506</td>\n",
       "    </tr>\n",
       "    <tr>\n",
       "      <th>2016-07-11</th>\n",
       "      <td>225.449997</td>\n",
       "      <td>222.000000</td>\n",
       "      <td>223.600006</td>\n",
       "      <td>224.699997</td>\n",
       "      <td>15831791.0</td>\n",
       "      <td>222.686127</td>\n",
       "    </tr>\n",
       "  </tbody>\n",
       "</table>\n",
       "</div>"
      ],
      "text/plain": [
       "                  High         Low        Open       Close      Volume  \\\n",
       "Date                                                                     \n",
       "2016-07-04  224.350006  222.000000  222.350006  223.000000  16534518.0   \n",
       "2016-07-05  225.149994  221.550003  223.250000  223.500000  15357018.0   \n",
       "2016-07-07  224.600006  219.350006  223.899994  220.050003  12917872.0   \n",
       "2016-07-08  220.850006  216.500000  220.149994  218.300003  16017389.0   \n",
       "2016-07-11  225.449997  222.000000  223.600006  224.699997  15831791.0   \n",
       "\n",
       "             Adj Close  \n",
       "Date                    \n",
       "2016-07-04  221.001373  \n",
       "2016-07-05  221.496887  \n",
       "2016-07-07  218.077820  \n",
       "2016-07-08  216.343506  \n",
       "2016-07-11  222.686127  "
      ]
     },
     "execution_count": 4,
     "metadata": {},
     "output_type": "execute_result"
    }
   ],
   "source": [
    "eq[0].head()"
   ]
  },
  {
   "cell_type": "code",
   "execution_count": 5,
   "metadata": {
    "scrolled": true
   },
   "outputs": [],
   "source": [
    "for e in eq:\n",
    "    e['Daily Return'] = (e['Close'] - e['Open'])*100 / e['Open']"
   ]
  },
  {
   "cell_type": "code",
   "execution_count": 6,
   "metadata": {},
   "outputs": [],
   "source": [
    "for e in eq:\n",
    "    avg = np.mean(e['Daily Return'])\n",
    "    e['Ret - avg'] = e['Daily Return'] - avg"
   ]
  },
  {
   "cell_type": "code",
   "execution_count": 7,
   "metadata": {},
   "outputs": [],
   "source": [
    "m = eq[0].shape[0]\n",
    "n = len(eq)\n",
    "excess_return = np.zeros([m, n])\n",
    "for i in range(n):\n",
    "    excess_return[:, i] = eq[i]['Ret - avg']"
   ]
  },
  {
   "cell_type": "code",
   "execution_count": 8,
   "metadata": {},
   "outputs": [],
   "source": [
    "X = excess_return\n",
    "mat = np.dot(np.transpose(X), X)"
   ]
  },
  {
   "cell_type": "code",
   "execution_count": 9,
   "metadata": {},
   "outputs": [],
   "source": [
    "vcm = mat / m"
   ]
  },
  {
   "cell_type": "code",
   "execution_count": 10,
   "metadata": {},
   "outputs": [
    {
     "name": "stdout",
     "output_type": "stream",
     "text": [
      "[1.809366106279542, 1.718755260244544, 1.8463833426041016, 1.8301530732265505, 3.708787838215061]\n"
     ]
    }
   ],
   "source": [
    "std = []\n",
    "for e in eq:\n",
    "    mean = np.mean(e['Daily Return'])\n",
    "    m = e.shape[0]\n",
    "    st = sqrt(np.sum((e['Daily Return'] - mean)**2) / m)\n",
    "    std.append(st)\n",
    "print(std)"
   ]
  },
  {
   "cell_type": "code",
   "execution_count": 11,
   "metadata": {},
   "outputs": [],
   "source": [
    "stds = np.array(std).reshape(-1, 1)"
   ]
  },
  {
   "cell_type": "code",
   "execution_count": 12,
   "metadata": {},
   "outputs": [
    {
     "data": {
      "text/plain": [
       "(5, 5)"
      ]
     },
     "execution_count": 12,
     "metadata": {},
     "output_type": "execute_result"
    }
   ],
   "source": [
    "product_std = np.dot(stds, np.transpose(stds))\n",
    "product_std.shape"
   ]
  },
  {
   "cell_type": "markdown",
   "metadata": {},
   "source": [
    "### Correlation\n",
    "**corr = variance_covariance_matrix / product_of_sds**"
   ]
  },
  {
   "cell_type": "code",
   "execution_count": 13,
   "metadata": {},
   "outputs": [
    {
     "name": "stdout",
     "output_type": "stream",
     "text": [
      "[[1.         0.40853379 0.20050085 0.29950005 0.1232868 ]\n",
      " [0.40853379 1.         0.18705031 0.19956484 0.05505373]\n",
      " [0.20050085 0.18705031 1.         0.24496592 0.06460634]\n",
      " [0.29950005 0.19956484 0.24496592 1.         0.14394112]\n",
      " [0.1232868  0.05505373 0.06460634 0.14394112 1.        ]]\n"
     ]
    }
   ],
   "source": [
    "corr = vcm / product_std\n",
    "print(corr)"
   ]
  },
  {
   "cell_type": "code",
   "execution_count": 14,
   "metadata": {},
   "outputs": [
    {
     "data": {
      "text/plain": [
       "(5, 1)"
      ]
     },
     "execution_count": 14,
     "metadata": {},
     "output_type": "execute_result"
    }
   ],
   "source": [
    "weights = np.array([0.2, 0.2, 0.2, 0.2, 0.2]).reshape(-1, 1)\n",
    "weights.shape"
   ]
  },
  {
   "cell_type": "code",
   "execution_count": 15,
   "metadata": {},
   "outputs": [
    {
     "name": "stdout",
     "output_type": "stream",
     "text": [
      "[[0.36187322]\n",
      " [0.34375105]\n",
      " [0.36927667]\n",
      " [0.36603061]\n",
      " [0.74175757]] [[1.80936611]\n",
      " [1.71875526]\n",
      " [1.84638334]\n",
      " [1.83015307]\n",
      " [3.70878784]]\n"
     ]
    }
   ],
   "source": [
    "weighted_sd = stds * weights\n",
    "print(weighted_sd, stds)"
   ]
  },
  {
   "cell_type": "markdown",
   "metadata": {},
   "source": [
    "### Portfolio Variance\n",
    "**Portfolio Variance = Sqrt (Transpose (Wt.SD) * Correlation Matrix * Wt. SD)**"
   ]
  },
  {
   "cell_type": "code",
   "execution_count": 16,
   "metadata": {},
   "outputs": [
    {
     "data": {
      "text/plain": [
       "1.6759776938960191"
      ]
     },
     "execution_count": 16,
     "metadata": {},
     "output_type": "execute_result"
    }
   ],
   "source": [
    "portfolio_var = np.dot(np.dot(np.transpose(weighted_sd), corr), weighted_sd)\n",
    "portfolio_var[0][0]"
   ]
  },
  {
   "cell_type": "code",
   "execution_count": 17,
   "metadata": {},
   "outputs": [
    {
     "data": {
      "text/plain": [
       "1.2945955715573954"
      ]
     },
     "execution_count": 17,
     "metadata": {},
     "output_type": "execute_result"
    }
   ],
   "source": [
    "final_pv = sqrt(portfolio_var[0][0])\n",
    "final_pv"
   ]
  },
  {
   "cell_type": "markdown",
   "metadata": {},
   "source": [
    "### Minimizing Portfolio Variance"
   ]
  },
  {
   "cell_type": "markdown",
   "metadata": {},
   "source": [
    "#### 1. Monte-Carlo Simulations: Using randomly generated weights"
   ]
  },
  {
   "cell_type": "code",
   "execution_count": 18,
   "metadata": {},
   "outputs": [
    {
     "name": "stdout",
     "output_type": "stream",
     "text": [
      "Best Weights: [[0.14759249]\n",
      " [0.32536672]\n",
      " [0.25191417]\n",
      " [0.21104525]\n",
      " [0.06408138]], Minimum Portfolio Variance: 1.1756749637371504, Sum of weights: 0.9999999999999998\n"
     ]
    }
   ],
   "source": [
    "port_vars = []\n",
    "rand_wts = []\n",
    "for i in range(0, 10000):\n",
    "    random_weights = np.random.dirichlet(np.ones(5),size=1).T\n",
    "    rand_wts.append(random_weights)\n",
    "    random_weighted_sd = stds * random_weights\n",
    "    portfolio_var = sqrt(np.sum(np.dot(np.dot(np.transpose(random_weighted_sd), corr), random_weighted_sd)))\n",
    "    port_vars.append(portfolio_var)\n",
    "min_index = port_vars.index(min(port_vars))\n",
    "best_wts = rand_wts[min_index]\n",
    "min_var = port_vars[min_index]\n",
    "print(f\"Best Weights: {best_wts}, Minimum Portfolio Variance: {min_var}, Sum of weights: {np.sum(best_wts)}\")"
   ]
  },
  {
   "cell_type": "markdown",
   "metadata": {},
   "source": [
    "#### 2. By minimizing function of portfolio variance as a parameter of weights"
   ]
  },
  {
   "cell_type": "code",
   "execution_count": 19,
   "metadata": {},
   "outputs": [],
   "source": [
    "from scipy.optimize import minimize"
   ]
  },
  {
   "cell_type": "code",
   "execution_count": 20,
   "metadata": {},
   "outputs": [],
   "source": [
    "def portfolio_variance(weights, stds, corr):\n",
    "    weighted_sd = weights * stds\n",
    "    k = np.dot(np.transpose(weighted_sd), corr)\n",
    "    ans = np.dot(k, weighted_sd)[0][0]\n",
    "    return sqrt(ans)"
   ]
  },
  {
   "cell_type": "code",
   "execution_count": 21,
   "metadata": {},
   "outputs": [],
   "source": [
    "cons = ({'type': 'eq', 'fun': lambda x: np.sum(x) - 1})\n",
    "bnds = ((0.001, 1), (0.001, 1), (0.001, 1), (0.001, 1), (0.001, 1))"
   ]
  },
  {
   "cell_type": "code",
   "execution_count": 22,
   "metadata": {
    "scrolled": true
   },
   "outputs": [
    {
     "data": {
      "text/plain": [
       "     fun: 0.006472977858323092\n",
       "     jac: array([6.47297786, 0.        , 0.        , 0.        , 0.        ])\n",
       " message: 'Optimization terminated successfully.'\n",
       "    nfev: 14\n",
       "     nit: 2\n",
       "    njev: 2\n",
       "  status: 0\n",
       " success: True\n",
       "       x: array([0.001  , 0.37475, 0.27475, 0.17475, 0.17475])"
      ]
     },
     "execution_count": 22,
     "metadata": {},
     "output_type": "execute_result"
    }
   ],
   "source": [
    "minimize(portfolio_variance, [0.3, 0.3, 0.2, 0.1, 0.1], args = (stds, corr),\n",
    "         method = \"SLSQP\", constraints = cons, bounds = bnds)"
   ]
  },
  {
   "cell_type": "code",
   "execution_count": 23,
   "metadata": {},
   "outputs": [],
   "source": [
    "min_op = minimize(portfolio_variance, [0.3, 0.3, 0.2, 0.1, 0.1], args = (stds, corr),\n",
    "         method = \"SLSQP\", constraints = cons, bounds = bnds)"
   ]
  },
  {
   "cell_type": "code",
   "execution_count": 24,
   "metadata": {},
   "outputs": [],
   "source": [
    "best_weights = min_op.x.reshape(-1, 1)"
   ]
  },
  {
   "cell_type": "code",
   "execution_count": 25,
   "metadata": {},
   "outputs": [],
   "source": [
    "min_variance = min_op.fun"
   ]
  },
  {
   "cell_type": "code",
   "execution_count": 26,
   "metadata": {},
   "outputs": [
    {
     "name": "stdout",
     "output_type": "stream",
     "text": [
      "Best Weights to achieve minimum portfolio variance: [[0.001  ]\n",
      " [0.37475]\n",
      " [0.27475]\n",
      " [0.17475]\n",
      " [0.17475]]\n",
      "Minimum value of porfolio variance: 0.006472977858323092\n"
     ]
    }
   ],
   "source": [
    "print(f\"Best Weights to achieve minimum portfolio variance: {best_weights}\")\n",
    "print(f\"Minimum value of porfolio variance: {float(min_variance)}\")"
   ]
  },
  {
   "cell_type": "code",
   "execution_count": 27,
   "metadata": {},
   "outputs": [
    {
     "name": "stdout",
     "output_type": "stream",
     "text": [
      "1.0\n"
     ]
    }
   ],
   "source": [
    "print(np.sum(best_weights))"
   ]
  },
  {
   "cell_type": "code",
   "execution_count": 28,
   "metadata": {},
   "outputs": [
    {
     "data": {
      "text/plain": [
       "1.9418933573360928"
      ]
     },
     "execution_count": 28,
     "metadata": {},
     "output_type": "execute_result"
    }
   ],
   "source": [
    "portfolio_variance([0.3, 0.3, 0.2, 0.1, 0.1], stds, corr)"
   ]
  },
  {
   "cell_type": "code",
   "execution_count": 29,
   "metadata": {
    "scrolled": true
   },
   "outputs": [
    {
     "data": {
      "text/plain": [
       "1.276154732833452"
      ]
     },
     "execution_count": 29,
     "metadata": {},
     "output_type": "execute_result"
    }
   ],
   "source": [
    "portfolio_variance(best_weights, stds, corr)"
   ]
  },
  {
   "cell_type": "code",
   "execution_count": 30,
   "metadata": {},
   "outputs": [],
   "source": [
    "min_op = minimize(portfolio_variance, [0.2, 0.2, 0.2, 0.2, 0.2], args = (stds, corr),\n",
    "         method = \"SLSQP\", constraints = cons, bounds = bnds)"
   ]
  },
  {
   "cell_type": "code",
   "execution_count": 31,
   "metadata": {},
   "outputs": [],
   "source": [
    "best_weights = min_op.x.reshape(-1, 1)"
   ]
  },
  {
   "cell_type": "code",
   "execution_count": 32,
   "metadata": {},
   "outputs": [],
   "source": [
    "min_variance = min_op.fun"
   ]
  },
  {
   "cell_type": "code",
   "execution_count": 33,
   "metadata": {},
   "outputs": [
    {
     "name": "stdout",
     "output_type": "stream",
     "text": [
      "Best Weights to achieve minimum portfolio variance: [[0.001  ]\n",
      " [0.24975]\n",
      " [0.24975]\n",
      " [0.24975]\n",
      " [0.24975]]\n",
      "Minimum value of porfolio variance: 0.0064729778577869825\n"
     ]
    }
   ],
   "source": [
    "print(f\"Best Weights to achieve minimum portfolio variance: {best_weights}\")\n",
    "print(f\"Minimum value of porfolio variance: {float(min_variance)}\")"
   ]
  },
  {
   "cell_type": "code",
   "execution_count": 34,
   "metadata": {},
   "outputs": [
    {
     "name": "stdout",
     "output_type": "stream",
     "text": [
      "1.0000000000000246\n"
     ]
    }
   ],
   "source": [
    "print(np.sum(best_weights))"
   ]
  },
  {
   "cell_type": "code",
   "execution_count": 35,
   "metadata": {},
   "outputs": [
    {
     "data": {
      "text/plain": [
       "1.2945955715573954"
      ]
     },
     "execution_count": 35,
     "metadata": {},
     "output_type": "execute_result"
    }
   ],
   "source": [
    "portfolio_variance([0.2, 0.2, 0.2, 0.2, 0.2], stds, corr)"
   ]
  },
  {
   "cell_type": "code",
   "execution_count": 36,
   "metadata": {},
   "outputs": [
    {
     "data": {
      "text/plain": [
       "1.393618116369442"
      ]
     },
     "execution_count": 36,
     "metadata": {},
     "output_type": "execute_result"
    }
   ],
   "source": [
    "portfolio_variance(best_weights, stds, corr)"
   ]
  }
 ],
 "metadata": {
  "kernelspec": {
   "display_name": "Python 3",
   "language": "python",
   "name": "python3"
  },
  "language_info": {
   "codemirror_mode": {
    "name": "ipython",
    "version": 3
   },
   "file_extension": ".py",
   "mimetype": "text/x-python",
   "name": "python",
   "nbconvert_exporter": "python",
   "pygments_lexer": "ipython3",
   "version": "3.7.6"
  }
 },
 "nbformat": 4,
 "nbformat_minor": 4
}
