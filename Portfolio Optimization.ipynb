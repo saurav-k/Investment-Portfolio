{
 "cells": [
  {
   "cell_type": "code",
   "execution_count": 1,
   "metadata": {},
   "outputs": [],
   "source": [
    "import datetime\n",
    "import numpy as np\n",
    "import pandas as pd\n",
    "import yfinance as yf\n",
    "from math import sqrt\n",
    "from pandas_datareader import data as pdr"
   ]
  },
  {
   "cell_type": "code",
   "execution_count": 2,
   "metadata": {
    "scrolled": true
   },
   "outputs": [
    {
     "name": "stdout",
     "output_type": "stream",
     "text": [
      "['SBIN.NS', 'AXISBANK.BO', 'IOC.BO', 'NMDC.BO', 'KRITIIND.BO', 'TATAPOWER.NS', 'AUROLAB.BO', 'RESONANCE.BO', 'ANDHRAPET.BO', 'MANALIPETC.BO', 'GAIL.NS', 'SAIL.NS', 'HDFCBANK.BO', 'ONGC.NS', 'INFY.BO', 'BHAGYAPROP.BO', 'FEDERALBNK.NS', 'WIPRO.BO', 'IDEA.NS', 'ALOKTEXT.BO', 'BANKBARODA.BO', 'BHEL.NS', 'DISHTV.BO', 'VEDL.BO', 'PTC.NS', 'PRESSMN.NS', 'VEDL.BO']\n"
     ]
    }
   ],
   "source": [
    "df = pd.read_csv(\"stocksymbols - Sheet1.csv\")\n",
    "syms = list(df['Symbol'])\n",
    "print(syms)"
   ]
  },
  {
   "cell_type": "markdown",
   "metadata": {},
   "source": [
    "#### Monthly Average Return"
   ]
  },
  {
   "cell_type": "code",
   "execution_count": 3,
   "metadata": {},
   "outputs": [
    {
     "name": "stdout",
     "output_type": "stream",
     "text": [
      "0 2016-04-01 2016-05-01\n",
      "1 2016-05-01 2016-06-01\n",
      "2 2016-06-01 2016-07-01\n",
      "3 2016-07-01 2016-08-01\n",
      "4 2016-08-01 2016-09-01\n",
      "5 2016-09-01 2016-10-01\n",
      "6 2016-10-01 2016-11-01\n",
      "7 2016-11-01 2016-12-01\n",
      "8 2016-12-01 2017-01-01\n",
      "9 2017-01-01 2017-02-01\n",
      "10 2017-02-01 2017-03-01\n",
      "11 2017-03-01 2017-04-01\n",
      "12 2017-04-01 2017-05-01\n",
      "13 2017-05-01 2017-06-01\n",
      "14 2017-06-01 2017-07-01\n",
      "15 2017-07-01 2017-08-01\n",
      "16 2017-08-01 2017-09-01\n",
      "17 2017-09-01 2017-10-01\n",
      "18 2017-10-01 2017-11-01\n",
      "19 2017-11-01 2017-12-01\n",
      "20 2017-12-01 2018-01-01\n",
      "21 2018-01-01 2018-02-01\n",
      "22 2018-02-01 2018-03-01\n",
      "23 2018-03-01 2018-04-01\n",
      "24 2018-04-01 2018-05-01\n",
      "25 2018-05-01 2018-06-01\n",
      "26 2018-06-01 2018-07-01\n",
      "27 2018-07-01 2018-08-01\n",
      "28 2018-08-01 2018-09-01\n",
      "29 2018-09-01 2018-10-01\n",
      "30 2018-10-01 2018-11-01\n",
      "31 2018-11-01 2018-12-01\n",
      "32 2018-12-01 2019-01-01\n",
      "33 2019-01-01 2019-02-01\n",
      "34 2019-02-01 2019-03-01\n",
      "35 2019-03-01 2019-04-01\n",
      "2.5222244262695312\n"
     ]
    }
   ],
   "source": [
    "ret = 0\n",
    "start = \"2016-04-01\"\n",
    "df = pdr.get_data_yahoo(\"SBIN.NS\", start = \"2016-04-01\", end = \"2019-04-01\")\n",
    "for i in range(36):\n",
    "    end = start[:5]\n",
    "    month = int(start[5:7]) + 1\n",
    "    if month <= 9:\n",
    "        end += '0' + str(month) + start[7:]\n",
    "    elif month > 12:\n",
    "        end = str(int(start[:4]) + 1) + '-01-01'\n",
    "    else:\n",
    "        end += str(month) + start[7:]\n",
    "    sliced_data = df.loc[(df.index >= start) & (df.index <= end)]\n",
    "    #df = pdr.get_data_yahoo(\"SBIN.NS\", start = start, end = end)\n",
    "    ret += (sliced_data.iloc[-1]['Close'] - sliced_data.iloc[0]['Open']) / 36\n",
    "    print(i, start, end)\n",
    "    start = end\n",
    "print(ret)"
   ]
  },
  {
   "cell_type": "code",
   "execution_count": 4,
   "metadata": {},
   "outputs": [
    {
     "data": {
      "text/html": [
       "<div>\n",
       "<style scoped>\n",
       "    .dataframe tbody tr th:only-of-type {\n",
       "        vertical-align: middle;\n",
       "    }\n",
       "\n",
       "    .dataframe tbody tr th {\n",
       "        vertical-align: top;\n",
       "    }\n",
       "\n",
       "    .dataframe thead th {\n",
       "        text-align: right;\n",
       "    }\n",
       "</style>\n",
       "<table border=\"1\" class=\"dataframe\">\n",
       "  <thead>\n",
       "    <tr style=\"text-align: right;\">\n",
       "      <th></th>\n",
       "      <th>High</th>\n",
       "      <th>Low</th>\n",
       "      <th>Open</th>\n",
       "      <th>Close</th>\n",
       "      <th>Volume</th>\n",
       "      <th>Adj Close</th>\n",
       "    </tr>\n",
       "    <tr>\n",
       "      <th>Date</th>\n",
       "      <th></th>\n",
       "      <th></th>\n",
       "      <th></th>\n",
       "      <th></th>\n",
       "      <th></th>\n",
       "      <th></th>\n",
       "    </tr>\n",
       "  </thead>\n",
       "  <tbody>\n",
       "    <tr>\n",
       "      <th>2016-04-01</th>\n",
       "      <td>197.250000</td>\n",
       "      <td>192.000000</td>\n",
       "      <td>193.699997</td>\n",
       "      <td>195.649994</td>\n",
       "      <td>21752206.0</td>\n",
       "      <td>191.382736</td>\n",
       "    </tr>\n",
       "    <tr>\n",
       "      <th>2016-04-04</th>\n",
       "      <td>197.449997</td>\n",
       "      <td>192.550003</td>\n",
       "      <td>197.300003</td>\n",
       "      <td>194.699997</td>\n",
       "      <td>15732565.0</td>\n",
       "      <td>190.453461</td>\n",
       "    </tr>\n",
       "    <tr>\n",
       "      <th>2016-04-05</th>\n",
       "      <td>194.550003</td>\n",
       "      <td>183.300003</td>\n",
       "      <td>193.899994</td>\n",
       "      <td>184.350006</td>\n",
       "      <td>36635637.0</td>\n",
       "      <td>180.329224</td>\n",
       "    </tr>\n",
       "    <tr>\n",
       "      <th>2016-04-06</th>\n",
       "      <td>185.500000</td>\n",
       "      <td>182.199997</td>\n",
       "      <td>185.000000</td>\n",
       "      <td>183.850006</td>\n",
       "      <td>16350631.0</td>\n",
       "      <td>179.840118</td>\n",
       "    </tr>\n",
       "    <tr>\n",
       "      <th>2016-04-07</th>\n",
       "      <td>185.649994</td>\n",
       "      <td>181.000000</td>\n",
       "      <td>183.800003</td>\n",
       "      <td>181.949997</td>\n",
       "      <td>19430601.0</td>\n",
       "      <td>177.981552</td>\n",
       "    </tr>\n",
       "    <tr>\n",
       "      <th>2016-04-08</th>\n",
       "      <td>183.949997</td>\n",
       "      <td>180.199997</td>\n",
       "      <td>181.649994</td>\n",
       "      <td>183.100006</td>\n",
       "      <td>15805231.0</td>\n",
       "      <td>179.106476</td>\n",
       "    </tr>\n",
       "    <tr>\n",
       "      <th>2016-04-11</th>\n",
       "      <td>188.899994</td>\n",
       "      <td>182.000000</td>\n",
       "      <td>183.850006</td>\n",
       "      <td>188.250000</td>\n",
       "      <td>18990364.0</td>\n",
       "      <td>184.144150</td>\n",
       "    </tr>\n",
       "    <tr>\n",
       "      <th>2016-04-12</th>\n",
       "      <td>190.250000</td>\n",
       "      <td>186.300003</td>\n",
       "      <td>188.500000</td>\n",
       "      <td>187.800003</td>\n",
       "      <td>14563344.0</td>\n",
       "      <td>183.703964</td>\n",
       "    </tr>\n",
       "    <tr>\n",
       "      <th>2016-04-13</th>\n",
       "      <td>193.800003</td>\n",
       "      <td>190.800003</td>\n",
       "      <td>191.550003</td>\n",
       "      <td>191.899994</td>\n",
       "      <td>17573045.0</td>\n",
       "      <td>187.714539</td>\n",
       "    </tr>\n",
       "    <tr>\n",
       "      <th>2016-04-18</th>\n",
       "      <td>191.500000</td>\n",
       "      <td>185.600006</td>\n",
       "      <td>191.449997</td>\n",
       "      <td>186.750000</td>\n",
       "      <td>13985439.0</td>\n",
       "      <td>182.676865</td>\n",
       "    </tr>\n",
       "    <tr>\n",
       "      <th>2016-04-20</th>\n",
       "      <td>188.649994</td>\n",
       "      <td>184.100006</td>\n",
       "      <td>188.350006</td>\n",
       "      <td>187.300003</td>\n",
       "      <td>20163005.0</td>\n",
       "      <td>183.214874</td>\n",
       "    </tr>\n",
       "    <tr>\n",
       "      <th>2016-04-21</th>\n",
       "      <td>197.399994</td>\n",
       "      <td>190.000000</td>\n",
       "      <td>190.500000</td>\n",
       "      <td>194.350006</td>\n",
       "      <td>31008152.0</td>\n",
       "      <td>190.111115</td>\n",
       "    </tr>\n",
       "    <tr>\n",
       "      <th>2016-04-22</th>\n",
       "      <td>201.500000</td>\n",
       "      <td>191.550003</td>\n",
       "      <td>193.600006</td>\n",
       "      <td>200.149994</td>\n",
       "      <td>34049763.0</td>\n",
       "      <td>195.784592</td>\n",
       "    </tr>\n",
       "    <tr>\n",
       "      <th>2016-04-25</th>\n",
       "      <td>202.550003</td>\n",
       "      <td>195.800003</td>\n",
       "      <td>200.949997</td>\n",
       "      <td>197.050003</td>\n",
       "      <td>23835613.0</td>\n",
       "      <td>192.752213</td>\n",
       "    </tr>\n",
       "    <tr>\n",
       "      <th>2016-04-26</th>\n",
       "      <td>201.399994</td>\n",
       "      <td>194.550003</td>\n",
       "      <td>195.949997</td>\n",
       "      <td>200.949997</td>\n",
       "      <td>21809451.0</td>\n",
       "      <td>196.567139</td>\n",
       "    </tr>\n",
       "    <tr>\n",
       "      <th>2016-04-27</th>\n",
       "      <td>200.899994</td>\n",
       "      <td>195.500000</td>\n",
       "      <td>200.899994</td>\n",
       "      <td>196.149994</td>\n",
       "      <td>22801603.0</td>\n",
       "      <td>191.871841</td>\n",
       "    </tr>\n",
       "    <tr>\n",
       "      <th>2016-04-28</th>\n",
       "      <td>198.199997</td>\n",
       "      <td>191.199997</td>\n",
       "      <td>196.750000</td>\n",
       "      <td>192.050003</td>\n",
       "      <td>24555479.0</td>\n",
       "      <td>187.861267</td>\n",
       "    </tr>\n",
       "    <tr>\n",
       "      <th>2016-04-29</th>\n",
       "      <td>194.000000</td>\n",
       "      <td>186.449997</td>\n",
       "      <td>191.899994</td>\n",
       "      <td>189.000000</td>\n",
       "      <td>21021661.0</td>\n",
       "      <td>184.877792</td>\n",
       "    </tr>\n",
       "  </tbody>\n",
       "</table>\n",
       "</div>"
      ],
      "text/plain": [
       "                  High         Low        Open       Close      Volume  \\\n",
       "Date                                                                     \n",
       "2016-04-01  197.250000  192.000000  193.699997  195.649994  21752206.0   \n",
       "2016-04-04  197.449997  192.550003  197.300003  194.699997  15732565.0   \n",
       "2016-04-05  194.550003  183.300003  193.899994  184.350006  36635637.0   \n",
       "2016-04-06  185.500000  182.199997  185.000000  183.850006  16350631.0   \n",
       "2016-04-07  185.649994  181.000000  183.800003  181.949997  19430601.0   \n",
       "2016-04-08  183.949997  180.199997  181.649994  183.100006  15805231.0   \n",
       "2016-04-11  188.899994  182.000000  183.850006  188.250000  18990364.0   \n",
       "2016-04-12  190.250000  186.300003  188.500000  187.800003  14563344.0   \n",
       "2016-04-13  193.800003  190.800003  191.550003  191.899994  17573045.0   \n",
       "2016-04-18  191.500000  185.600006  191.449997  186.750000  13985439.0   \n",
       "2016-04-20  188.649994  184.100006  188.350006  187.300003  20163005.0   \n",
       "2016-04-21  197.399994  190.000000  190.500000  194.350006  31008152.0   \n",
       "2016-04-22  201.500000  191.550003  193.600006  200.149994  34049763.0   \n",
       "2016-04-25  202.550003  195.800003  200.949997  197.050003  23835613.0   \n",
       "2016-04-26  201.399994  194.550003  195.949997  200.949997  21809451.0   \n",
       "2016-04-27  200.899994  195.500000  200.899994  196.149994  22801603.0   \n",
       "2016-04-28  198.199997  191.199997  196.750000  192.050003  24555479.0   \n",
       "2016-04-29  194.000000  186.449997  191.899994  189.000000  21021661.0   \n",
       "\n",
       "             Adj Close  \n",
       "Date                    \n",
       "2016-04-01  191.382736  \n",
       "2016-04-04  190.453461  \n",
       "2016-04-05  180.329224  \n",
       "2016-04-06  179.840118  \n",
       "2016-04-07  177.981552  \n",
       "2016-04-08  179.106476  \n",
       "2016-04-11  184.144150  \n",
       "2016-04-12  183.703964  \n",
       "2016-04-13  187.714539  \n",
       "2016-04-18  182.676865  \n",
       "2016-04-20  183.214874  \n",
       "2016-04-21  190.111115  \n",
       "2016-04-22  195.784592  \n",
       "2016-04-25  192.752213  \n",
       "2016-04-26  196.567139  \n",
       "2016-04-27  191.871841  \n",
       "2016-04-28  187.861267  \n",
       "2016-04-29  184.877792  "
      ]
     },
     "execution_count": 4,
     "metadata": {},
     "output_type": "execute_result"
    }
   ],
   "source": [
    "df.loc[(df.index >= \"2016-04-01\") & (df.index <= \"2016-05-01\")]"
   ]
  },
  {
   "cell_type": "markdown",
   "metadata": {},
   "source": [
    "#### Daily Average Return"
   ]
  },
  {
   "cell_type": "code",
   "execution_count": 5,
   "metadata": {},
   "outputs": [
    {
     "name": "stdout",
     "output_type": "stream",
     "text": [
      "2016-04-01 2019-04-01\n",
      "-0.30640044341216216\n"
     ]
    }
   ],
   "source": [
    "start = \"2016-04-01\"\n",
    "end = str(int(start[:4]) + 3) + start[4:]\n",
    "print(start, end)\n",
    "df = pdr.get_data_yahoo(\"HDFCBANK.BO\", start = start, end = end)\n",
    "df['DR'] = df['Close'] - df['Open']\n",
    "avg = np.mean(df['DR'])\n",
    "print(avg)"
   ]
  },
  {
   "cell_type": "code",
   "execution_count": 6,
   "metadata": {},
   "outputs": [
    {
     "name": "stdout",
     "output_type": "stream",
     "text": [
      "             High    Low   Open  Close   Volume   Adj Close   DR\n",
      "Date                                                            \n",
      "2016-04-01  536.5  528.5  533.0  532.5  75410.0  512.739319 -0.5\n",
      "                   High          Low    Open        Close     Volume  \\\n",
      "Date                                                                   \n",
      "2019-04-01  1166.180054  1152.219971  1162.5  1155.030029  1049036.0   \n",
      "\n",
      "              Adj Close        DR  \n",
      "Date                               \n",
      "2019-04-01  1145.349731 -7.469971  \n"
     ]
    }
   ],
   "source": [
    "print(df.head(1))\n",
    "print(df.tail(1))"
   ]
  },
  {
   "cell_type": "code",
   "execution_count": 7,
   "metadata": {
    "scrolled": true
   },
   "outputs": [
    {
     "data": {
      "text/html": [
       "<div>\n",
       "<style scoped>\n",
       "    .dataframe tbody tr th:only-of-type {\n",
       "        vertical-align: middle;\n",
       "    }\n",
       "\n",
       "    .dataframe tbody tr th {\n",
       "        vertical-align: top;\n",
       "    }\n",
       "\n",
       "    .dataframe thead th {\n",
       "        text-align: right;\n",
       "    }\n",
       "</style>\n",
       "<table border=\"1\" class=\"dataframe\">\n",
       "  <thead>\n",
       "    <tr style=\"text-align: right;\">\n",
       "      <th></th>\n",
       "      <th>High</th>\n",
       "      <th>Low</th>\n",
       "      <th>Open</th>\n",
       "      <th>Close</th>\n",
       "      <th>Volume</th>\n",
       "      <th>Adj Close</th>\n",
       "      <th>DR</th>\n",
       "    </tr>\n",
       "    <tr>\n",
       "      <th>Date</th>\n",
       "      <th></th>\n",
       "      <th></th>\n",
       "      <th></th>\n",
       "      <th></th>\n",
       "      <th></th>\n",
       "      <th></th>\n",
       "      <th></th>\n",
       "    </tr>\n",
       "  </thead>\n",
       "  <tbody>\n",
       "    <tr>\n",
       "      <th>2016-04-01</th>\n",
       "      <td>536.500000</td>\n",
       "      <td>528.500000</td>\n",
       "      <td>533.0</td>\n",
       "      <td>532.500000</td>\n",
       "      <td>75410.0</td>\n",
       "      <td>512.739319</td>\n",
       "      <td>-0.500000</td>\n",
       "    </tr>\n",
       "    <tr>\n",
       "      <th>2016-04-04</th>\n",
       "      <td>536.224976</td>\n",
       "      <td>532.150024</td>\n",
       "      <td>534.5</td>\n",
       "      <td>534.650024</td>\n",
       "      <td>70052.0</td>\n",
       "      <td>514.809570</td>\n",
       "      <td>0.150024</td>\n",
       "    </tr>\n",
       "    <tr>\n",
       "      <th>2016-04-05</th>\n",
       "      <td>538.325012</td>\n",
       "      <td>527.625000</td>\n",
       "      <td>534.0</td>\n",
       "      <td>529.150024</td>\n",
       "      <td>158490.0</td>\n",
       "      <td>509.513580</td>\n",
       "      <td>-4.849976</td>\n",
       "    </tr>\n",
       "    <tr>\n",
       "      <th>2016-04-06</th>\n",
       "      <td>533.400024</td>\n",
       "      <td>528.349976</td>\n",
       "      <td>532.5</td>\n",
       "      <td>530.750000</td>\n",
       "      <td>87236.0</td>\n",
       "      <td>511.054291</td>\n",
       "      <td>-1.750000</td>\n",
       "    </tr>\n",
       "    <tr>\n",
       "      <th>2016-04-07</th>\n",
       "      <td>535.500000</td>\n",
       "      <td>523.599976</td>\n",
       "      <td>535.0</td>\n",
       "      <td>527.825012</td>\n",
       "      <td>79930.0</td>\n",
       "      <td>508.237762</td>\n",
       "      <td>-7.174988</td>\n",
       "    </tr>\n",
       "  </tbody>\n",
       "</table>\n",
       "</div>"
      ],
      "text/plain": [
       "                  High         Low   Open       Close    Volume   Adj Close  \\\n",
       "Date                                                                          \n",
       "2016-04-01  536.500000  528.500000  533.0  532.500000   75410.0  512.739319   \n",
       "2016-04-04  536.224976  532.150024  534.5  534.650024   70052.0  514.809570   \n",
       "2016-04-05  538.325012  527.625000  534.0  529.150024  158490.0  509.513580   \n",
       "2016-04-06  533.400024  528.349976  532.5  530.750000   87236.0  511.054291   \n",
       "2016-04-07  535.500000  523.599976  535.0  527.825012   79930.0  508.237762   \n",
       "\n",
       "                  DR  \n",
       "Date                  \n",
       "2016-04-01 -0.500000  \n",
       "2016-04-04  0.150024  \n",
       "2016-04-05 -4.849976  \n",
       "2016-04-06 -1.750000  \n",
       "2016-04-07 -7.174988  "
      ]
     },
     "execution_count": 7,
     "metadata": {},
     "output_type": "execute_result"
    }
   ],
   "source": [
    "df.head()"
   ]
  },
  {
   "cell_type": "code",
   "execution_count": 8,
   "metadata": {
    "scrolled": false
   },
   "outputs": [
    {
     "name": "stdout",
     "output_type": "stream",
     "text": [
      "SBIN.NS -0.29972991943359373\n",
      "AXISBANK.BO -0.4705414643158784\n",
      "IOC.BO -0.4549079379519901\n",
      "NMDC.BO -0.3495272249788851\n",
      "KRITIIND.BO -0.1679729564769848\n",
      "TATAPOWER.NS -0.1386483991468275\n",
      "AUROLAB.BO -0.6180403554761732\n",
      "RESONANCE.BO -0.32263512740264066\n",
      "ANDHRAPET.BO -0.10843238443941683\n",
      "MANALIPETC.BO -0.19081084534928605\n",
      "GAIL.NS -0.2024765530148068\n",
      "SAIL.NS -0.11635128742939717\n",
      "HDFCBANK.BO -0.30640044341216216\n",
      "ONGC.NS -0.41290528580949115\n",
      "INFY.BO -0.5947298616976351\n",
      "BHAGYAPROP.BO 0.0368735420390928\n",
      "FEDERALBNK.NS -0.15094557581721124\n",
      "WIPRO.BO -0.23393115481814822\n",
      "IDEA.NS -0.12835879970241237\n",
      "ALOKTEXT.BO -0.021040539644859933\n",
      "BANKBARODA.BO -0.4215543695398279\n",
      "BHEL.NS -0.17403141743428\n",
      "DISHTV.BO -0.28695941873498865\n",
      "VEDL.BO -0.2747294245539485\n",
      "PTC.NS -0.14871617394524653\n",
      "PRESSMN.NS -0.261351355990848\n",
      "VEDL.BO -0.2747294245539485\n",
      "['BHAGYAPROP.BO']\n"
     ]
    }
   ],
   "source": [
    "start = \"2016-04-01\"\n",
    "end = str(int(start[:4]) + 3) + start[4:]\n",
    "all_stocks = []\n",
    "positive_return = []\n",
    "for i in range(len(syms)):\n",
    "    try:\n",
    "        a = pdr.get_data_yahoo(syms[i], start = start, end = end)\n",
    "        all_stocks.append(a)\n",
    "        a['Daily Return'] = (a['Close'] - a['Open'])\n",
    "        avg = np.mean(a['Daily Return'])\n",
    "        print(syms[i], avg)\n",
    "        if avg > 0:\n",
    "            positive_return.append(syms[i])\n",
    "    except:\n",
    "        print(f\"error in {syms[i]}\")\n",
    "print(positive_return)"
   ]
  },
  {
   "cell_type": "code",
   "execution_count": 9,
   "metadata": {},
   "outputs": [],
   "source": [
    "start = \"2016-04-01\"\n",
    "end = str(int(start[:4]) + 3) + start[4:]\n",
    "eq = []\n",
    "avgs = []\n",
    "for i in range(5):\n",
    "    e = pdr.get_data_yahoo(syms[i], start = start, end = end)\n",
    "    eq.append(e)\n",
    "    e['Daily Return'] = e['Close'] - e['Open']\n",
    "    avg = np.mean(e['Daily Return'])\n",
    "    avgs.append(avg)"
   ]
  },
  {
   "cell_type": "code",
   "execution_count": 10,
   "metadata": {},
   "outputs": [
    {
     "data": {
      "text/html": [
       "<div>\n",
       "<style scoped>\n",
       "    .dataframe tbody tr th:only-of-type {\n",
       "        vertical-align: middle;\n",
       "    }\n",
       "\n",
       "    .dataframe tbody tr th {\n",
       "        vertical-align: top;\n",
       "    }\n",
       "\n",
       "    .dataframe thead th {\n",
       "        text-align: right;\n",
       "    }\n",
       "</style>\n",
       "<table border=\"1\" class=\"dataframe\">\n",
       "  <thead>\n",
       "    <tr style=\"text-align: right;\">\n",
       "      <th></th>\n",
       "      <th>High</th>\n",
       "      <th>Low</th>\n",
       "      <th>Open</th>\n",
       "      <th>Close</th>\n",
       "      <th>Volume</th>\n",
       "      <th>Adj Close</th>\n",
       "      <th>Daily Return</th>\n",
       "    </tr>\n",
       "    <tr>\n",
       "      <th>Date</th>\n",
       "      <th></th>\n",
       "      <th></th>\n",
       "      <th></th>\n",
       "      <th></th>\n",
       "      <th></th>\n",
       "      <th></th>\n",
       "      <th></th>\n",
       "    </tr>\n",
       "  </thead>\n",
       "  <tbody>\n",
       "    <tr>\n",
       "      <th>2016-04-01</th>\n",
       "      <td>197.250000</td>\n",
       "      <td>192.000000</td>\n",
       "      <td>193.699997</td>\n",
       "      <td>195.649994</td>\n",
       "      <td>21752206.0</td>\n",
       "      <td>191.382736</td>\n",
       "      <td>1.949997</td>\n",
       "    </tr>\n",
       "    <tr>\n",
       "      <th>2016-04-04</th>\n",
       "      <td>197.449997</td>\n",
       "      <td>192.550003</td>\n",
       "      <td>197.300003</td>\n",
       "      <td>194.699997</td>\n",
       "      <td>15732565.0</td>\n",
       "      <td>190.453461</td>\n",
       "      <td>-2.600006</td>\n",
       "    </tr>\n",
       "    <tr>\n",
       "      <th>2016-04-05</th>\n",
       "      <td>194.550003</td>\n",
       "      <td>183.300003</td>\n",
       "      <td>193.899994</td>\n",
       "      <td>184.350006</td>\n",
       "      <td>36635637.0</td>\n",
       "      <td>180.329224</td>\n",
       "      <td>-9.549988</td>\n",
       "    </tr>\n",
       "    <tr>\n",
       "      <th>2016-04-06</th>\n",
       "      <td>185.500000</td>\n",
       "      <td>182.199997</td>\n",
       "      <td>185.000000</td>\n",
       "      <td>183.850006</td>\n",
       "      <td>16350631.0</td>\n",
       "      <td>179.840118</td>\n",
       "      <td>-1.149994</td>\n",
       "    </tr>\n",
       "    <tr>\n",
       "      <th>2016-04-07</th>\n",
       "      <td>185.649994</td>\n",
       "      <td>181.000000</td>\n",
       "      <td>183.800003</td>\n",
       "      <td>181.949997</td>\n",
       "      <td>19430601.0</td>\n",
       "      <td>177.981552</td>\n",
       "      <td>-1.850006</td>\n",
       "    </tr>\n",
       "  </tbody>\n",
       "</table>\n",
       "</div>"
      ],
      "text/plain": [
       "                  High         Low        Open       Close      Volume  \\\n",
       "Date                                                                     \n",
       "2016-04-01  197.250000  192.000000  193.699997  195.649994  21752206.0   \n",
       "2016-04-04  197.449997  192.550003  197.300003  194.699997  15732565.0   \n",
       "2016-04-05  194.550003  183.300003  193.899994  184.350006  36635637.0   \n",
       "2016-04-06  185.500000  182.199997  185.000000  183.850006  16350631.0   \n",
       "2016-04-07  185.649994  181.000000  183.800003  181.949997  19430601.0   \n",
       "\n",
       "             Adj Close  Daily Return  \n",
       "Date                                  \n",
       "2016-04-01  191.382736      1.949997  \n",
       "2016-04-04  190.453461     -2.600006  \n",
       "2016-04-05  180.329224     -9.549988  \n",
       "2016-04-06  179.840118     -1.149994  \n",
       "2016-04-07  177.981552     -1.850006  "
      ]
     },
     "execution_count": 10,
     "metadata": {},
     "output_type": "execute_result"
    }
   ],
   "source": [
    "eq[0].head()"
   ]
  },
  {
   "cell_type": "code",
   "execution_count": 11,
   "metadata": {
    "scrolled": true
   },
   "outputs": [],
   "source": [
    "for e in eq:\n",
    "    e['Daily Return'] = (e['Close'] - e['Open'])*100 / e['Open']"
   ]
  },
  {
   "cell_type": "code",
   "execution_count": 12,
   "metadata": {},
   "outputs": [],
   "source": [
    "for e in eq:\n",
    "    avg = np.mean(e['Daily Return'])\n",
    "    e['Ret - avg'] = e['Daily Return'] - avg"
   ]
  },
  {
   "cell_type": "code",
   "execution_count": 13,
   "metadata": {},
   "outputs": [],
   "source": [
    "m = eq[0].shape[0]\n",
    "n = len(eq)\n",
    "excess_return = np.zeros([m, n])\n",
    "for i in range(n):\n",
    "    excess_return[:, i] = eq[i]['Ret - avg']"
   ]
  },
  {
   "cell_type": "code",
   "execution_count": 14,
   "metadata": {},
   "outputs": [],
   "source": [
    "X = excess_return\n",
    "mat = np.dot(np.transpose(X), X)"
   ]
  },
  {
   "cell_type": "code",
   "execution_count": 15,
   "metadata": {},
   "outputs": [],
   "source": [
    "vcm = mat / m"
   ]
  },
  {
   "cell_type": "code",
   "execution_count": 16,
   "metadata": {},
   "outputs": [
    {
     "name": "stdout",
     "output_type": "stream",
     "text": [
      "[1.876151865979658, 1.7354930090540837, 1.8297082602550838, 1.8422035518432398, 3.851188770588137]\n"
     ]
    }
   ],
   "source": [
    "std = []\n",
    "for e in eq:\n",
    "    mean = np.mean(e['Daily Return'])\n",
    "    m = e.shape[0]\n",
    "    st = sqrt(np.sum((e['Daily Return'] - mean)**2) / m)\n",
    "    std.append(st)\n",
    "print(std)"
   ]
  },
  {
   "cell_type": "code",
   "execution_count": 17,
   "metadata": {},
   "outputs": [
    {
     "name": "stdout",
     "output_type": "stream",
     "text": [
      "(5, 1)\n"
     ]
    }
   ],
   "source": [
    "stds = np.array(std).reshape(-1, 1)\n",
    "print(stds.shape)"
   ]
  },
  {
   "cell_type": "code",
   "execution_count": 18,
   "metadata": {},
   "outputs": [
    {
     "data": {
      "text/plain": [
       "(5, 5)"
      ]
     },
     "execution_count": 18,
     "metadata": {},
     "output_type": "execute_result"
    }
   ],
   "source": [
    "product_std = np.dot(stds, np.transpose(stds))\n",
    "product_std.shape"
   ]
  },
  {
   "cell_type": "markdown",
   "metadata": {},
   "source": [
    "### Correlation\n",
    "**corr = variance_covariance_matrix / product_of_sds**"
   ]
  },
  {
   "cell_type": "code",
   "execution_count": 19,
   "metadata": {},
   "outputs": [
    {
     "name": "stdout",
     "output_type": "stream",
     "text": [
      "[[1.         0.39331504 0.18812314 0.30136006 0.12007307]\n",
      " [0.39331504 1.         0.17336731 0.1810741  0.07055679]\n",
      " [0.18812314 0.17336731 1.         0.23930562 0.0635524 ]\n",
      " [0.30136006 0.1810741  0.23930562 1.         0.14940654]\n",
      " [0.12007307 0.07055679 0.0635524  0.14940654 1.        ]]\n"
     ]
    }
   ],
   "source": [
    "corr = vcm / product_std\n",
    "print(corr)"
   ]
  },
  {
   "cell_type": "code",
   "execution_count": 20,
   "metadata": {},
   "outputs": [
    {
     "data": {
      "text/plain": [
       "(5, 1)"
      ]
     },
     "execution_count": 20,
     "metadata": {},
     "output_type": "execute_result"
    }
   ],
   "source": [
    "weights = np.array([0.2, 0.2, 0.2, 0.2, 0.2]).reshape(-1, 1)\n",
    "weights.shape"
   ]
  },
  {
   "cell_type": "code",
   "execution_count": 21,
   "metadata": {},
   "outputs": [
    {
     "name": "stdout",
     "output_type": "stream",
     "text": [
      "[[0.37523037]\n",
      " [0.3470986 ]\n",
      " [0.36594165]\n",
      " [0.36844071]\n",
      " [0.77023775]] [[1.87615187]\n",
      " [1.73549301]\n",
      " [1.82970826]\n",
      " [1.84220355]\n",
      " [3.85118877]]\n"
     ]
    }
   ],
   "source": [
    "weighted_sd = stds * weights\n",
    "print(weighted_sd, stds)"
   ]
  },
  {
   "cell_type": "markdown",
   "metadata": {},
   "source": [
    "### Portfolio Variance\n",
    "**Portfolio Variance = Sqrt (Transpose (Wt.SD) * Correlation Matrix * Wt. SD)**"
   ]
  },
  {
   "cell_type": "code",
   "execution_count": 22,
   "metadata": {},
   "outputs": [
    {
     "data": {
      "text/plain": [
       "1.7442879620426066"
      ]
     },
     "execution_count": 22,
     "metadata": {},
     "output_type": "execute_result"
    }
   ],
   "source": [
    "portfolio_var = np.dot(np.dot(np.transpose(weighted_sd), corr), weighted_sd)\n",
    "portfolio_var[0][0]"
   ]
  },
  {
   "cell_type": "code",
   "execution_count": 23,
   "metadata": {},
   "outputs": [
    {
     "data": {
      "text/plain": [
       "1.3207149435221086"
      ]
     },
     "execution_count": 23,
     "metadata": {},
     "output_type": "execute_result"
    }
   ],
   "source": [
    "final_pv = sqrt(portfolio_var[0][0])\n",
    "final_pv"
   ]
  },
  {
   "cell_type": "markdown",
   "metadata": {},
   "source": [
    "### Maximizing Returns by fixing Portfolio Variance"
   ]
  },
  {
   "cell_type": "markdown",
   "metadata": {},
   "source": [
    "#### Monte-Carlo Method: Using randomly generated weights"
   ]
  },
  {
   "cell_type": "code",
   "execution_count": 24,
   "metadata": {},
   "outputs": [
    {
     "name": "stdout",
     "output_type": "stream",
     "text": [
      "Best Return: -1.7426795031573312, Best Weights: [[0.37426846]\n",
      " [0.23406933]\n",
      " [0.10644216]\n",
      " [0.15911911]\n",
      " [0.12610094]], Minimum Portfolio Variance: 1.296089179088856, Sum of weights: 0.9999999999999997\n",
      "Worst Return: -1.7426795031573328\n"
     ]
    }
   ],
   "source": [
    "min_port_var = 1.20\n",
    "max_port_var = 1.32\n",
    "port_vars = []\n",
    "returns = []\n",
    "rand_wts = []\n",
    "for i in range(0, 10000):\n",
    "    random_weights = np.random.dirichlet(np.ones(5), size = 1).T\n",
    "    random_weighted_sd = stds * random_weights\n",
    "    portfolio_var = sqrt(np.sum(np.dot(np.dot(np.transpose(random_weighted_sd), corr), random_weighted_sd)))\n",
    "    if (portfolio_var >= min_port_var) & (portfolio_var <= max_port_var):\n",
    "        port_vars.append(portfolio_var)\n",
    "        rand_wts.append(random_weights)\n",
    "        total_return = np.sum(avgs * random_weights)\n",
    "        returns.append(total_return)\n",
    "#print(len(returns), len(port_vars), len(rand_wts))\n",
    "max_index = returns.index(max(returns))\n",
    "max_return = returns[max_index]\n",
    "best_wts = rand_wts[max_index]\n",
    "min_var = port_vars[max_index]\n",
    "print(f\"Best Return: {max_return}, Best Weights: {best_wts}, Minimum Portfolio Variance: {min_var}, Sum of weights: {np.sum(best_wts)}\")\n",
    "print(f\"Worst Return: {min(returns)}\")"
   ]
  },
  {
   "cell_type": "markdown",
   "metadata": {},
   "source": [
    "### Minimizing Portfolio Variance"
   ]
  },
  {
   "cell_type": "markdown",
   "metadata": {},
   "source": [
    "#### Monte-Carlo Method: Using randomly generated weights"
   ]
  },
  {
   "cell_type": "code",
   "execution_count": 25,
   "metadata": {},
   "outputs": [
    {
     "name": "stdout",
     "output_type": "stream",
     "text": [
      "Best Weights: [[0.15849709]\n",
      " [0.29542793]\n",
      " [0.28232342]\n",
      " [0.21522924]\n",
      " [0.04852232]], Minimum Portfolio Variance: 1.1763584975054986, Sum of weights: 0.9999999999999998\n"
     ]
    }
   ],
   "source": [
    "port_vars = []\n",
    "rand_wts = []\n",
    "for i in range(0, 10000):\n",
    "    random_weights = np.random.dirichlet(np.ones(5), size = 1).T\n",
    "    rand_wts.append(random_weights)\n",
    "    random_weighted_sd = stds * random_weights\n",
    "    portfolio_var = sqrt(np.sum(np.dot(np.dot(np.transpose(random_weighted_sd), corr), random_weighted_sd)))\n",
    "    port_vars.append(portfolio_var)\n",
    "min_index = port_vars.index(min(port_vars))\n",
    "best_wts = rand_wts[min_index]\n",
    "min_var = port_vars[min_index]\n",
    "print(f\"Best Weights: {best_wts}, Minimum Portfolio Variance: {min_var}, Sum of weights: {np.sum(best_wts)}\")"
   ]
  },
  {
   "cell_type": "markdown",
   "metadata": {},
   "source": [
    "### Maximizing Sharpe Ratio"
   ]
  },
  {
   "cell_type": "markdown",
   "metadata": {},
   "source": [
    "#### Monte-Carlo Method: Using randomly generated weights"
   ]
  },
  {
   "cell_type": "code",
   "execution_count": 26,
   "metadata": {},
   "outputs": [
    {
     "name": "stdout",
     "output_type": "stream",
     "text": [
      "51.47134667992929\n"
     ]
    },
    {
     "data": {
      "text/plain": [
       "Date\n",
       "2016-04-01    51.471347\n",
       "2016-04-04    51.471347\n",
       "2016-04-05    51.471347\n",
       "2016-04-06    51.471347\n",
       "2016-04-07    51.471347\n",
       "                ...    \n",
       "2017-03-27    51.471347\n",
       "2017-03-28    51.471347\n",
       "2017-03-29    51.471347\n",
       "2017-03-30    51.471347\n",
       "2017-03-31    51.471347\n",
       "Name: Daily Return, Length: 247, dtype: float64"
      ]
     },
     "execution_count": 26,
     "metadata": {},
     "output_type": "execute_result"
    }
   ],
   "source": [
    "start = \"2016-04-01\"\n",
    "end = str(int(start[:4]) + 1) + start[4:]\n",
    "e = pdr.get_data_yahoo(\"SBIN.NS\", start = start, end = \"2019-04-01\")\n",
    "e['Daily Return'] = 0\n",
    "sliced_data = e.loc[(e.index >= start) & (e.index <= end)]\n",
    "year_avg = (sliced_data.iloc[-1]['Close'] - sliced_data.iloc[0]['Open'])*100 / sliced_data.iloc[0]['Open']\n",
    "e.loc[sliced_data.index, 'Daily Return'] = year_avg\n",
    "print(year_avg)\n",
    "e.loc[sliced_data.index]['Daily Return']"
   ]
  },
  {
   "cell_type": "code",
   "execution_count": 27,
   "metadata": {},
   "outputs": [],
   "source": [
    "eq = []\n",
    "avgs = []\n",
    "for i in range(5):\n",
    "    start = \"2016-04-01\"\n",
    "    end = str(int(start[:4]) + 3) + start[4:]\n",
    "    e = pdr.get_data_yahoo(syms[i], start = start, end = end)\n",
    "    eq.append(e)\n",
    "    e['Daily Return'] = 0\n",
    "    start = \"2016-04-01\"\n",
    "    #e['Daily Return'] = (e['Close'] - e['Open'])*100 / e['Open']\n",
    "    for j in range(3):\n",
    "        end = str(int(start[:4]) + 1) + start[4:]\n",
    "        sliced_data = e.loc[(e.index >= start) & (e.index <= end)]\n",
    "        year_avg = (sliced_data.iloc[-1]['Close'] - sliced_data.iloc[0]['Open'])*100 / sliced_data.iloc[0]['Open']\n",
    "        e.loc[sliced_data.index, 'Daily Return'] = year_avg\n",
    "        start = end\n",
    "        #print(e.loc[sliced_data.index, 'Daily Return'].tail(2))"
   ]
  },
  {
   "cell_type": "markdown",
   "metadata": {},
   "source": [
    "#### Yearly Average Return"
   ]
  },
  {
   "cell_type": "code",
   "execution_count": 28,
   "metadata": {},
   "outputs": [
    {
     "name": "stdout",
     "output_type": "stream",
     "text": [
      "(5, 1) [[21.47260214]\n",
      " [21.24438064]\n",
      " [25.80360703]\n",
      " [ 3.5706382 ]\n",
      " [ 3.54023575]]\n"
     ]
    }
   ],
   "source": [
    "avg_return = []\n",
    "for e in eq:\n",
    "    ret = 0\n",
    "    start = \"2016-04-01\"\n",
    "    for i in range(3):\n",
    "        end = str(int(start[:4]) + 1) + start[4:]\n",
    "        sliced_data = e.loc[(e.index >= start) & (e.index <= end)]\n",
    "        ret += (sliced_data.iloc[-1]['Close'] - sliced_data.iloc[0]['Open']) / sliced_data.iloc[0]['Open']\n",
    "        start = end\n",
    "    avg_return.append(ret*100/3)\n",
    "yearly_avg_return = np.array(avg_return).reshape(-1, 1)\n",
    "print(yearly_avg_return.shape, yearly_avg_return)"
   ]
  },
  {
   "cell_type": "code",
   "execution_count": 29,
   "metadata": {},
   "outputs": [
    {
     "name": "stdout",
     "output_type": "stream",
     "text": [
      "[[0.58284934]\n",
      " [0.21566999]\n",
      " [0.09376074]\n",
      " [0.03197725]\n",
      " [0.07574268]]\n",
      "[[12.51529202]\n",
      " [ 4.58177546]\n",
      " [ 2.4193652 ]\n",
      " [ 0.11417919]\n",
      " [ 0.26814694]]\n",
      "19.898758807328445\n"
     ]
    }
   ],
   "source": [
    "random_weights = np.random.dirichlet(np.ones(5), size = 1).T\n",
    "excess_ret = yearly_avg_return * random_weights\n",
    "print(random_weights)\n",
    "print(excess_ret)\n",
    "print(np.sum(excess_ret))"
   ]
  },
  {
   "cell_type": "code",
   "execution_count": 30,
   "metadata": {},
   "outputs": [],
   "source": [
    "count = 0\n",
    "for e in eq:\n",
    "    e['Ret - avg'] = e['Daily Return'] - yearly_avg_return[count]\n",
    "    count += 1"
   ]
  },
  {
   "cell_type": "code",
   "execution_count": 31,
   "metadata": {},
   "outputs": [],
   "source": [
    "m = eq[0].shape[0]\n",
    "n = len(eq)\n",
    "excess_return = np.zeros([m, n])\n",
    "for i in range(n):\n",
    "    excess_return[:, i] = eq[i]['Ret - avg']"
   ]
  },
  {
   "cell_type": "code",
   "execution_count": 32,
   "metadata": {},
   "outputs": [],
   "source": [
    "X = excess_return\n",
    "mat = np.dot(np.transpose(X), X)"
   ]
  },
  {
   "cell_type": "code",
   "execution_count": 33,
   "metadata": {},
   "outputs": [],
   "source": [
    "vcm = mat / m"
   ]
  },
  {
   "cell_type": "code",
   "execution_count": 34,
   "metadata": {},
   "outputs": [
    {
     "name": "stdout",
     "output_type": "stream",
     "text": [
      "[27.62632166327554, 20.716227675044177, 50.05913640711804, 20.934839927246518, 37.22752483268484]\n"
     ]
    }
   ],
   "source": [
    "std = []\n",
    "count = 0\n",
    "for e in eq:\n",
    "    mean = yearly_avg_return[count]\n",
    "    m = e.shape[0]\n",
    "    st = sqrt(np.sum((e['Daily Return'] - mean)**2) / m)\n",
    "    std.append(st)\n",
    "    count += 1\n",
    "print(std)"
   ]
  },
  {
   "cell_type": "code",
   "execution_count": 35,
   "metadata": {},
   "outputs": [
    {
     "name": "stdout",
     "output_type": "stream",
     "text": [
      "(5, 1)\n"
     ]
    }
   ],
   "source": [
    "stds = np.array(std).reshape(-1, 1)\n",
    "print(stds.shape)"
   ]
  },
  {
   "cell_type": "code",
   "execution_count": 36,
   "metadata": {},
   "outputs": [
    {
     "data": {
      "text/plain": [
       "(5, 5)"
      ]
     },
     "execution_count": 36,
     "metadata": {},
     "output_type": "execute_result"
    }
   ],
   "source": [
    "product_std = np.dot(stds, np.transpose(stds))\n",
    "product_std.shape"
   ]
  },
  {
   "cell_type": "markdown",
   "metadata": {},
   "source": [
    "### Correlation\n",
    "**corr = variance_covariance_matrix / product_of_sds**"
   ]
  },
  {
   "cell_type": "code",
   "execution_count": 37,
   "metadata": {},
   "outputs": [
    {
     "name": "stdout",
     "output_type": "stream",
     "text": [
      "[[ 1.          0.31835789  0.76057095  0.76473878 -0.08952942]\n",
      " [ 0.31835789  1.         -0.37334073 -0.36735516 -0.97266612]\n",
      " [ 0.76057095 -0.37334073  1.          0.99997924  0.57855406]\n",
      " [ 0.76473878 -0.36735516  0.99997924  1.          0.57328625]\n",
      " [-0.08952942 -0.97266612  0.57855406  0.57328625  1.        ]]\n"
     ]
    }
   ],
   "source": [
    "corr = vcm / product_std\n",
    "print(corr)"
   ]
  },
  {
   "cell_type": "code",
   "execution_count": 38,
   "metadata": {},
   "outputs": [
    {
     "name": "stdout",
     "output_type": "stream",
     "text": [
      "Max Sharpe Ratio: 0.5591199944594113\n",
      "Best Weights: [[0.01197538]\n",
      " [0.5982698 ]\n",
      " [0.01114419]\n",
      " [0.00665209]\n",
      " [0.37195854]]\n",
      "Portfolio Variance: 4.353123522044135, Sum of weights: 1.0\n",
      "Max Return: 14.595147435714605\n"
     ]
    }
   ],
   "source": [
    "srs = []\n",
    "portfolio_vars = []\n",
    "rand_wts = []\n",
    "portfolio_return = []\n",
    "risk_free_rate = 4\n",
    "for i in range(0, 10000):\n",
    "    random_weights = np.random.dirichlet(np.ones(5), size = 1).T\n",
    "    rand_wts.append(random_weights)\n",
    "    random_weighted_sd = stds * random_weights\n",
    "    portfolio_std = np.sum(np.dot(np.dot(np.transpose(random_weighted_sd), corr), random_weighted_sd))\n",
    "    portfolio_vars.append(sqrt(portfolio_std))\n",
    "    excess_return = np.sum(yearly_avg_return * random_weights)\n",
    "    portfolio_return.append(excess_return)\n",
    "    sharpe_ratio = (excess_return - risk_free_rate) / portfolio_std\n",
    "    srs.append(sharpe_ratio)\n",
    "max_index = srs.index(max(srs))\n",
    "best_wts = rand_wts[max_index]\n",
    "max_sr = srs[max_index]\n",
    "portfolio_var = portfolio_vars[max_index]\n",
    "max_return = portfolio_return[max_index]\n",
    "print(f\"Max Sharpe Ratio: {max_sr}\")\n",
    "print(f\"Best Weights: {best_wts}\")\n",
    "print(f\"Portfolio Variance: {portfolio_var}, Sum of weights: {np.sum(best_wts)}\")\n",
    "print(f\"Max Return: {max_return}\")"
   ]
  }
 ],
 "metadata": {
  "kernelspec": {
   "display_name": "Python 3",
   "language": "python",
   "name": "python3"
  },
  "language_info": {
   "codemirror_mode": {
    "name": "ipython",
    "version": 3
   },
   "file_extension": ".py",
   "mimetype": "text/x-python",
   "name": "python",
   "nbconvert_exporter": "python",
   "pygments_lexer": "ipython3",
   "version": "3.7.6"
  }
 },
 "nbformat": 4,
 "nbformat_minor": 4
}
