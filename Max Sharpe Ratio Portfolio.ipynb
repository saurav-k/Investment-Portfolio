{
 "cells": [
  {
   "cell_type": "code",
   "execution_count": 1,
   "metadata": {},
   "outputs": [],
   "source": [
    "import numpy as np\n",
    "import pandas as pd\n",
    "import yfinance as yf\n",
    "from pandas_datareader import data as pdr"
   ]
  },
  {
   "cell_type": "code",
   "execution_count": 2,
   "metadata": {},
   "outputs": [],
   "source": [
    "yf.pdr_override()"
   ]
  },
  {
   "cell_type": "code",
   "execution_count": 3,
   "metadata": {},
   "outputs": [
    {
     "name": "stdout",
     "output_type": "stream",
     "text": [
      "['SBIN.NS', 'AXISBANK.BO', 'IOC.BO', 'NMDC.BO', 'KRITIIND.BO', 'TATAPOWER.NS', 'AUROLAB.BO', 'RESONANCE.BO', 'ANDHRAPET.BO', 'MANALIPETC.BO', 'GAIL.NS', 'SAIL.NS', 'HDFCBANK.BO', 'ONGC.NS', 'INFY.BO', 'BHAGYAPROP.BO', 'FEDERALBNK.NS', 'WIPRO.BO', 'IDEA.NS', 'ALOKTEXT.BO', 'BANKBARODA.BO', 'BHEL.NS', 'DISHTV.BO', 'VEDL.BO', 'PTC.NS', 'PRESSMN.NS', 'VEDL.BO']\n"
     ]
    }
   ],
   "source": [
    "df = pd.read_csv(\"stocksymbols - Sheet1.csv\")\n",
    "syms = list(df['Symbol'])\n",
    "print(syms)"
   ]
  },
  {
   "cell_type": "code",
   "execution_count": 4,
   "metadata": {},
   "outputs": [
    {
     "name": "stdout",
     "output_type": "stream",
     "text": [
      "[*********************100%***********************]  5 of 5 completed\n"
     ]
    },
    {
     "data": {
      "text/html": [
       "<div>\n",
       "<style scoped>\n",
       "    .dataframe tbody tr th:only-of-type {\n",
       "        vertical-align: middle;\n",
       "    }\n",
       "\n",
       "    .dataframe tbody tr th {\n",
       "        vertical-align: top;\n",
       "    }\n",
       "\n",
       "    .dataframe thead th {\n",
       "        text-align: right;\n",
       "    }\n",
       "</style>\n",
       "<table border=\"1\" class=\"dataframe\">\n",
       "  <thead>\n",
       "    <tr style=\"text-align: right;\">\n",
       "      <th></th>\n",
       "      <th>AXISBANK.BO</th>\n",
       "      <th>IOC.BO</th>\n",
       "      <th>KRITIIND.BO</th>\n",
       "      <th>NMDC.BO</th>\n",
       "      <th>SBIN.NS</th>\n",
       "    </tr>\n",
       "    <tr>\n",
       "      <th>Date</th>\n",
       "      <th></th>\n",
       "      <th></th>\n",
       "      <th></th>\n",
       "      <th></th>\n",
       "      <th></th>\n",
       "    </tr>\n",
       "  </thead>\n",
       "  <tbody>\n",
       "    <tr>\n",
       "      <th>2016-04-01</th>\n",
       "      <td>440.503143</td>\n",
       "      <td>70.593666</td>\n",
       "      <td>32.958870</td>\n",
       "      <td>79.307602</td>\n",
       "      <td>191.382736</td>\n",
       "    </tr>\n",
       "    <tr>\n",
       "      <th>2016-04-04</th>\n",
       "      <td>436.142731</td>\n",
       "      <td>72.174149</td>\n",
       "      <td>33.401604</td>\n",
       "      <td>79.712654</td>\n",
       "      <td>190.453461</td>\n",
       "    </tr>\n",
       "    <tr>\n",
       "      <th>2016-04-05</th>\n",
       "      <td>423.551331</td>\n",
       "      <td>72.101608</td>\n",
       "      <td>33.352413</td>\n",
       "      <td>79.186081</td>\n",
       "      <td>180.329224</td>\n",
       "    </tr>\n",
       "    <tr>\n",
       "      <th>2016-04-06</th>\n",
       "      <td>416.300262</td>\n",
       "      <td>73.744942</td>\n",
       "      <td>32.466949</td>\n",
       "      <td>82.264420</td>\n",
       "      <td>179.840118</td>\n",
       "    </tr>\n",
       "    <tr>\n",
       "      <th>2016-04-07</th>\n",
       "      <td>417.868042</td>\n",
       "      <td>73.790176</td>\n",
       "      <td>31.729065</td>\n",
       "      <td>82.588448</td>\n",
       "      <td>177.981552</td>\n",
       "    </tr>\n",
       "  </tbody>\n",
       "</table>\n",
       "</div>"
      ],
      "text/plain": [
       "            AXISBANK.BO     IOC.BO  KRITIIND.BO    NMDC.BO     SBIN.NS\n",
       "Date                                                                  \n",
       "2016-04-01   440.503143  70.593666    32.958870  79.307602  191.382736\n",
       "2016-04-04   436.142731  72.174149    33.401604  79.712654  190.453461\n",
       "2016-04-05   423.551331  72.101608    33.352413  79.186081  180.329224\n",
       "2016-04-06   416.300262  73.744942    32.466949  82.264420  179.840118\n",
       "2016-04-07   417.868042  73.790176    31.729065  82.588448  177.981552"
      ]
     },
     "execution_count": 4,
     "metadata": {},
     "output_type": "execute_result"
    }
   ],
   "source": [
    "start = \"2016-04-01\"\n",
    "end = str(int(start[:4]) + 3) + start[4:]\n",
    "stock_data = pdr.get_data_yahoo(syms[:5], start = start, end = end)['Adj Close']\n",
    "stock_data.head()"
   ]
  },
  {
   "cell_type": "code",
   "execution_count": 5,
   "metadata": {},
   "outputs": [
    {
     "data": {
      "text/html": [
       "<div>\n",
       "<style scoped>\n",
       "    .dataframe tbody tr th:only-of-type {\n",
       "        vertical-align: middle;\n",
       "    }\n",
       "\n",
       "    .dataframe tbody tr th {\n",
       "        vertical-align: top;\n",
       "    }\n",
       "\n",
       "    .dataframe thead th {\n",
       "        text-align: right;\n",
       "    }\n",
       "</style>\n",
       "<table border=\"1\" class=\"dataframe\">\n",
       "  <thead>\n",
       "    <tr style=\"text-align: right;\">\n",
       "      <th></th>\n",
       "      <th>AXISBANK.BO</th>\n",
       "      <th>IOC.BO</th>\n",
       "      <th>KRITIIND.BO</th>\n",
       "      <th>NMDC.BO</th>\n",
       "      <th>SBIN.NS</th>\n",
       "    </tr>\n",
       "    <tr>\n",
       "      <th>Date</th>\n",
       "      <th></th>\n",
       "      <th></th>\n",
       "      <th></th>\n",
       "      <th></th>\n",
       "      <th></th>\n",
       "    </tr>\n",
       "  </thead>\n",
       "  <tbody>\n",
       "    <tr>\n",
       "      <th>2016-04-01</th>\n",
       "      <td>NaN</td>\n",
       "      <td>NaN</td>\n",
       "      <td>NaN</td>\n",
       "      <td>NaN</td>\n",
       "      <td>NaN</td>\n",
       "    </tr>\n",
       "    <tr>\n",
       "      <th>2016-04-04</th>\n",
       "      <td>-0.009899</td>\n",
       "      <td>0.022388</td>\n",
       "      <td>0.013433</td>\n",
       "      <td>0.005107</td>\n",
       "      <td>-0.004856</td>\n",
       "    </tr>\n",
       "    <tr>\n",
       "      <th>2016-04-05</th>\n",
       "      <td>-0.028870</td>\n",
       "      <td>-0.001005</td>\n",
       "      <td>-0.001473</td>\n",
       "      <td>-0.006606</td>\n",
       "      <td>-0.053159</td>\n",
       "    </tr>\n",
       "    <tr>\n",
       "      <th>2016-04-06</th>\n",
       "      <td>-0.017120</td>\n",
       "      <td>0.022792</td>\n",
       "      <td>-0.026549</td>\n",
       "      <td>0.038875</td>\n",
       "      <td>-0.002712</td>\n",
       "    </tr>\n",
       "    <tr>\n",
       "      <th>2016-04-07</th>\n",
       "      <td>0.003766</td>\n",
       "      <td>0.000613</td>\n",
       "      <td>-0.022727</td>\n",
       "      <td>0.003939</td>\n",
       "      <td>-0.010335</td>\n",
       "    </tr>\n",
       "  </tbody>\n",
       "</table>\n",
       "</div>"
      ],
      "text/plain": [
       "            AXISBANK.BO    IOC.BO  KRITIIND.BO   NMDC.BO   SBIN.NS\n",
       "Date                                                              \n",
       "2016-04-01          NaN       NaN          NaN       NaN       NaN\n",
       "2016-04-04    -0.009899  0.022388     0.013433  0.005107 -0.004856\n",
       "2016-04-05    -0.028870 -0.001005    -0.001473 -0.006606 -0.053159\n",
       "2016-04-06    -0.017120  0.022792    -0.026549  0.038875 -0.002712\n",
       "2016-04-07     0.003766  0.000613    -0.022727  0.003939 -0.010335"
      ]
     },
     "execution_count": 5,
     "metadata": {},
     "output_type": "execute_result"
    }
   ],
   "source": [
    "returns = stock_data.pct_change()\n",
    "returns.head()"
   ]
  },
  {
   "cell_type": "code",
   "execution_count": 6,
   "metadata": {},
   "outputs": [],
   "source": [
    "mean_daily_returns = np.array(returns.mean()).reshape(-1, 1)\n",
    "cov = returns.cov()"
   ]
  },
  {
   "cell_type": "code",
   "execution_count": 7,
   "metadata": {},
   "outputs": [
    {
     "data": {
      "text/plain": [
       "array([[0.00092921],\n",
       "       [0.00191748],\n",
       "       [0.00041526],\n",
       "       [0.00045104],\n",
       "       [0.00090449]])"
      ]
     },
     "execution_count": 7,
     "metadata": {},
     "output_type": "execute_result"
    }
   ],
   "source": [
    "mean_daily_returns"
   ]
  },
  {
   "cell_type": "code",
   "execution_count": 8,
   "metadata": {},
   "outputs": [
    {
     "data": {
      "text/html": [
       "<div>\n",
       "<style scoped>\n",
       "    .dataframe tbody tr th:only-of-type {\n",
       "        vertical-align: middle;\n",
       "    }\n",
       "\n",
       "    .dataframe tbody tr th {\n",
       "        vertical-align: top;\n",
       "    }\n",
       "\n",
       "    .dataframe thead th {\n",
       "        text-align: right;\n",
       "    }\n",
       "</style>\n",
       "<table border=\"1\" class=\"dataframe\">\n",
       "  <thead>\n",
       "    <tr style=\"text-align: right;\">\n",
       "      <th></th>\n",
       "      <th>AXISBANK.BO</th>\n",
       "      <th>IOC.BO</th>\n",
       "      <th>KRITIIND.BO</th>\n",
       "      <th>NMDC.BO</th>\n",
       "      <th>SBIN.NS</th>\n",
       "    </tr>\n",
       "  </thead>\n",
       "  <tbody>\n",
       "    <tr>\n",
       "      <th>AXISBANK.BO</th>\n",
       "      <td>0.000313</td>\n",
       "      <td>0.000051</td>\n",
       "      <td>0.000045</td>\n",
       "      <td>0.000082</td>\n",
       "      <td>0.000153</td>\n",
       "    </tr>\n",
       "    <tr>\n",
       "      <th>IOC.BO</th>\n",
       "      <td>0.000051</td>\n",
       "      <td>0.002062</td>\n",
       "      <td>-0.000006</td>\n",
       "      <td>0.000056</td>\n",
       "      <td>0.000058</td>\n",
       "    </tr>\n",
       "    <tr>\n",
       "      <th>KRITIIND.BO</th>\n",
       "      <td>0.000045</td>\n",
       "      <td>-0.000006</td>\n",
       "      <td>0.001180</td>\n",
       "      <td>0.000117</td>\n",
       "      <td>0.000066</td>\n",
       "    </tr>\n",
       "    <tr>\n",
       "      <th>NMDC.BO</th>\n",
       "      <td>0.000082</td>\n",
       "      <td>0.000056</td>\n",
       "      <td>0.000117</td>\n",
       "      <td>0.000372</td>\n",
       "      <td>0.000123</td>\n",
       "    </tr>\n",
       "    <tr>\n",
       "      <th>SBIN.NS</th>\n",
       "      <td>0.000153</td>\n",
       "      <td>0.000058</td>\n",
       "      <td>0.000066</td>\n",
       "      <td>0.000123</td>\n",
       "      <td>0.000442</td>\n",
       "    </tr>\n",
       "  </tbody>\n",
       "</table>\n",
       "</div>"
      ],
      "text/plain": [
       "             AXISBANK.BO    IOC.BO  KRITIIND.BO   NMDC.BO   SBIN.NS\n",
       "AXISBANK.BO     0.000313  0.000051     0.000045  0.000082  0.000153\n",
       "IOC.BO          0.000051  0.002062    -0.000006  0.000056  0.000058\n",
       "KRITIIND.BO     0.000045 -0.000006     0.001180  0.000117  0.000066\n",
       "NMDC.BO         0.000082  0.000056     0.000117  0.000372  0.000123\n",
       "SBIN.NS         0.000153  0.000058     0.000066  0.000123  0.000442"
      ]
     },
     "execution_count": 8,
     "metadata": {},
     "output_type": "execute_result"
    }
   ],
   "source": [
    "cov"
   ]
  },
  {
   "cell_type": "code",
   "execution_count": 9,
   "metadata": {},
   "outputs": [
    {
     "name": "stdout",
     "output_type": "stream",
     "text": [
      "Max Sharpe Ratio: [[1.10061387]]\n",
      "Best Weights: [[0.47368903 0.20116718 0.03190962 0.05879166 0.2344425 ]]\n",
      "Portfolio Volatility: [[24.67554403]]%, Sum of weights: 1.0\n",
      "Max Expected Annual Return: 27.158246076400733%\n"
     ]
    }
   ],
   "source": [
    "srs = []\n",
    "portfolio_stds = []\n",
    "rand_wts = []\n",
    "portfolio_returns = []\n",
    "risk_free_rate = 0\n",
    "for i in range(0, 20000):\n",
    "    random_weights = np.random.dirichlet(np.ones(5), size = 1).T\n",
    "    rand_wts.append(random_weights)\n",
    "    # portolfio return\n",
    "    portfolio_return = np.sum(mean_daily_returns * random_weights)*252\n",
    "    portfolio_returns.append(portfolio_return)\n",
    "    # portfolio volatility\n",
    "    portfolio_std = np.sqrt(np.dot(random_weights.T, np.dot(cov, random_weights))) * np.sqrt(252)\n",
    "    portfolio_stds.append(portfolio_std)\n",
    "    # sharpe ratio\n",
    "    sharpe_ratio = (portfolio_return - risk_free_rate) / portfolio_std\n",
    "    srs.append(sharpe_ratio)\n",
    "max_index = srs.index(max(srs))\n",
    "best_wts = rand_wts[max_index]\n",
    "max_sr = srs[max_index]\n",
    "portfolio_sd = portfolio_stds[max_index]\n",
    "max_return = portfolio_returns[max_index]\n",
    "print(f\"Max Sharpe Ratio: {max_sr}\")\n",
    "print(f\"Best Weights: {best_wts.T}\")\n",
    "print(f\"Portfolio Volatility: {portfolio_sd*100}%, Sum of weights: {np.sum(best_wts)}\")\n",
    "print(f\"Max Expected Annual Return: {max_return*100}%\")"
   ]
  },
  {
   "cell_type": "code",
   "execution_count": null,
   "metadata": {},
   "outputs": [],
   "source": []
  }
 ],
 "metadata": {
  "kernelspec": {
   "display_name": "Python 3",
   "language": "python",
   "name": "python3"
  },
  "language_info": {
   "codemirror_mode": {
    "name": "ipython",
    "version": 3
   },
   "file_extension": ".py",
   "mimetype": "text/x-python",
   "name": "python",
   "nbconvert_exporter": "python",
   "pygments_lexer": "ipython3",
   "version": "3.7.6"
  }
 },
 "nbformat": 4,
 "nbformat_minor": 4
}
