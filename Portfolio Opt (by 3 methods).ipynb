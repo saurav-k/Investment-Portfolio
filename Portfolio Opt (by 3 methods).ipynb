{
 "cells": [
  {
   "cell_type": "code",
   "execution_count": 1,
   "metadata": {},
   "outputs": [],
   "source": [
    "import numpy as np\n",
    "import pandas as pd\n",
    "import yfinance as yf\n",
    "from pandas_datareader import data as pdr"
   ]
  },
  {
   "cell_type": "code",
   "execution_count": 2,
   "metadata": {},
   "outputs": [],
   "source": [
    "yf.pdr_override()"
   ]
  },
  {
   "cell_type": "code",
   "execution_count": 3,
   "metadata": {},
   "outputs": [
    {
     "name": "stdout",
     "output_type": "stream",
     "text": [
      "['SBIN.NS', 'AXISBANK.BO', 'IOC.BO', 'NMDC.BO', 'KRITIIND.BO', 'TATAPOWER.NS', 'AUROLAB.BO', 'RESONANCE.BO', 'ANDHRAPET.BO', 'MANALIPETC.BO', 'GAIL.NS', 'SAIL.NS', 'HDFCBANK.BO', 'ONGC.NS', 'INFY.BO', 'BHAGYAPROP.BO', 'FEDERALBNK.NS', 'WIPRO.BO', 'IDEA.NS', 'ALOKTEXT.BO', 'BANKBARODA.BO', 'BHEL.NS', 'DISHTV.BO', 'VEDL.BO', 'PTC.NS', 'PRESSMN.NS', 'VEDL.BO']\n"
     ]
    }
   ],
   "source": [
    "df = pd.read_csv(\"stocksymbols - Sheet1.csv\")\n",
    "syms = list(df['Symbol'])\n",
    "print(syms)"
   ]
  },
  {
   "cell_type": "code",
   "execution_count": 4,
   "metadata": {},
   "outputs": [
    {
     "name": "stdout",
     "output_type": "stream",
     "text": [
      "[*********************100%***********************]  5 of 5 completed\n"
     ]
    },
    {
     "data": {
      "text/html": [
       "<div>\n",
       "<style scoped>\n",
       "    .dataframe tbody tr th:only-of-type {\n",
       "        vertical-align: middle;\n",
       "    }\n",
       "\n",
       "    .dataframe tbody tr th {\n",
       "        vertical-align: top;\n",
       "    }\n",
       "\n",
       "    .dataframe thead th {\n",
       "        text-align: right;\n",
       "    }\n",
       "</style>\n",
       "<table border=\"1\" class=\"dataframe\">\n",
       "  <thead>\n",
       "    <tr style=\"text-align: right;\">\n",
       "      <th></th>\n",
       "      <th>AXISBANK.BO</th>\n",
       "      <th>IOC.BO</th>\n",
       "      <th>KRITIIND.BO</th>\n",
       "      <th>NMDC.BO</th>\n",
       "      <th>SBIN.NS</th>\n",
       "    </tr>\n",
       "    <tr>\n",
       "      <th>Date</th>\n",
       "      <th></th>\n",
       "      <th></th>\n",
       "      <th></th>\n",
       "      <th></th>\n",
       "      <th></th>\n",
       "    </tr>\n",
       "  </thead>\n",
       "  <tbody>\n",
       "    <tr>\n",
       "      <th>2016-04-01</th>\n",
       "      <td>440.503143</td>\n",
       "      <td>70.593666</td>\n",
       "      <td>32.958870</td>\n",
       "      <td>79.307602</td>\n",
       "      <td>191.382736</td>\n",
       "    </tr>\n",
       "    <tr>\n",
       "      <th>2016-04-04</th>\n",
       "      <td>436.142731</td>\n",
       "      <td>72.174149</td>\n",
       "      <td>33.401604</td>\n",
       "      <td>79.712654</td>\n",
       "      <td>190.453461</td>\n",
       "    </tr>\n",
       "    <tr>\n",
       "      <th>2016-04-05</th>\n",
       "      <td>423.551331</td>\n",
       "      <td>72.101608</td>\n",
       "      <td>33.352413</td>\n",
       "      <td>79.186081</td>\n",
       "      <td>180.329224</td>\n",
       "    </tr>\n",
       "    <tr>\n",
       "      <th>2016-04-06</th>\n",
       "      <td>416.300262</td>\n",
       "      <td>73.744942</td>\n",
       "      <td>32.466949</td>\n",
       "      <td>82.264420</td>\n",
       "      <td>179.840118</td>\n",
       "    </tr>\n",
       "    <tr>\n",
       "      <th>2016-04-07</th>\n",
       "      <td>417.868042</td>\n",
       "      <td>73.790176</td>\n",
       "      <td>31.729065</td>\n",
       "      <td>82.588448</td>\n",
       "      <td>177.981552</td>\n",
       "    </tr>\n",
       "  </tbody>\n",
       "</table>\n",
       "</div>"
      ],
      "text/plain": [
       "            AXISBANK.BO     IOC.BO  KRITIIND.BO    NMDC.BO     SBIN.NS\n",
       "Date                                                                  \n",
       "2016-04-01   440.503143  70.593666    32.958870  79.307602  191.382736\n",
       "2016-04-04   436.142731  72.174149    33.401604  79.712654  190.453461\n",
       "2016-04-05   423.551331  72.101608    33.352413  79.186081  180.329224\n",
       "2016-04-06   416.300262  73.744942    32.466949  82.264420  179.840118\n",
       "2016-04-07   417.868042  73.790176    31.729065  82.588448  177.981552"
      ]
     },
     "execution_count": 4,
     "metadata": {},
     "output_type": "execute_result"
    }
   ],
   "source": [
    "start = \"2016-04-01\"\n",
    "end = str(int(start[:4]) + 3) + start[4:]\n",
    "stock_data = pdr.get_data_yahoo(syms[:5], start = start, end = end)['Adj Close']\n",
    "stock_data.head()"
   ]
  },
  {
   "cell_type": "code",
   "execution_count": 5,
   "metadata": {},
   "outputs": [
    {
     "data": {
      "text/html": [
       "<div>\n",
       "<style scoped>\n",
       "    .dataframe tbody tr th:only-of-type {\n",
       "        vertical-align: middle;\n",
       "    }\n",
       "\n",
       "    .dataframe tbody tr th {\n",
       "        vertical-align: top;\n",
       "    }\n",
       "\n",
       "    .dataframe thead th {\n",
       "        text-align: right;\n",
       "    }\n",
       "</style>\n",
       "<table border=\"1\" class=\"dataframe\">\n",
       "  <thead>\n",
       "    <tr style=\"text-align: right;\">\n",
       "      <th></th>\n",
       "      <th>AXISBANK.BO</th>\n",
       "      <th>IOC.BO</th>\n",
       "      <th>KRITIIND.BO</th>\n",
       "      <th>NMDC.BO</th>\n",
       "      <th>SBIN.NS</th>\n",
       "    </tr>\n",
       "    <tr>\n",
       "      <th>Date</th>\n",
       "      <th></th>\n",
       "      <th></th>\n",
       "      <th></th>\n",
       "      <th></th>\n",
       "      <th></th>\n",
       "    </tr>\n",
       "  </thead>\n",
       "  <tbody>\n",
       "    <tr>\n",
       "      <th>2016-04-01</th>\n",
       "      <td>NaN</td>\n",
       "      <td>NaN</td>\n",
       "      <td>NaN</td>\n",
       "      <td>NaN</td>\n",
       "      <td>NaN</td>\n",
       "    </tr>\n",
       "    <tr>\n",
       "      <th>2016-04-04</th>\n",
       "      <td>-0.009899</td>\n",
       "      <td>0.022388</td>\n",
       "      <td>0.013433</td>\n",
       "      <td>0.005107</td>\n",
       "      <td>-0.004856</td>\n",
       "    </tr>\n",
       "    <tr>\n",
       "      <th>2016-04-05</th>\n",
       "      <td>-0.028870</td>\n",
       "      <td>-0.001005</td>\n",
       "      <td>-0.001473</td>\n",
       "      <td>-0.006606</td>\n",
       "      <td>-0.053159</td>\n",
       "    </tr>\n",
       "    <tr>\n",
       "      <th>2016-04-06</th>\n",
       "      <td>-0.017120</td>\n",
       "      <td>0.022792</td>\n",
       "      <td>-0.026549</td>\n",
       "      <td>0.038875</td>\n",
       "      <td>-0.002712</td>\n",
       "    </tr>\n",
       "    <tr>\n",
       "      <th>2016-04-07</th>\n",
       "      <td>0.003766</td>\n",
       "      <td>0.000613</td>\n",
       "      <td>-0.022727</td>\n",
       "      <td>0.003939</td>\n",
       "      <td>-0.010335</td>\n",
       "    </tr>\n",
       "  </tbody>\n",
       "</table>\n",
       "</div>"
      ],
      "text/plain": [
       "            AXISBANK.BO    IOC.BO  KRITIIND.BO   NMDC.BO   SBIN.NS\n",
       "Date                                                              \n",
       "2016-04-01          NaN       NaN          NaN       NaN       NaN\n",
       "2016-04-04    -0.009899  0.022388     0.013433  0.005107 -0.004856\n",
       "2016-04-05    -0.028870 -0.001005    -0.001473 -0.006606 -0.053159\n",
       "2016-04-06    -0.017120  0.022792    -0.026549  0.038875 -0.002712\n",
       "2016-04-07     0.003766  0.000613    -0.022727  0.003939 -0.010335"
      ]
     },
     "execution_count": 5,
     "metadata": {},
     "output_type": "execute_result"
    }
   ],
   "source": [
    "returns = stock_data.pct_change()\n",
    "returns.head()"
   ]
  },
  {
   "cell_type": "code",
   "execution_count": 6,
   "metadata": {},
   "outputs": [],
   "source": [
    "mean_daily_returns = np.array(returns.mean()).reshape(-1, 1)\n",
    "cov = returns.cov()"
   ]
  },
  {
   "cell_type": "code",
   "execution_count": 7,
   "metadata": {},
   "outputs": [
    {
     "data": {
      "text/plain": [
       "array([[0.00092921],\n",
       "       [0.00191748],\n",
       "       [0.00041526],\n",
       "       [0.00045104],\n",
       "       [0.00090449]])"
      ]
     },
     "execution_count": 7,
     "metadata": {},
     "output_type": "execute_result"
    }
   ],
   "source": [
    "mean_daily_returns"
   ]
  },
  {
   "cell_type": "code",
   "execution_count": 8,
   "metadata": {},
   "outputs": [
    {
     "data": {
      "text/html": [
       "<div>\n",
       "<style scoped>\n",
       "    .dataframe tbody tr th:only-of-type {\n",
       "        vertical-align: middle;\n",
       "    }\n",
       "\n",
       "    .dataframe tbody tr th {\n",
       "        vertical-align: top;\n",
       "    }\n",
       "\n",
       "    .dataframe thead th {\n",
       "        text-align: right;\n",
       "    }\n",
       "</style>\n",
       "<table border=\"1\" class=\"dataframe\">\n",
       "  <thead>\n",
       "    <tr style=\"text-align: right;\">\n",
       "      <th></th>\n",
       "      <th>AXISBANK.BO</th>\n",
       "      <th>IOC.BO</th>\n",
       "      <th>KRITIIND.BO</th>\n",
       "      <th>NMDC.BO</th>\n",
       "      <th>SBIN.NS</th>\n",
       "    </tr>\n",
       "  </thead>\n",
       "  <tbody>\n",
       "    <tr>\n",
       "      <th>AXISBANK.BO</th>\n",
       "      <td>0.000313</td>\n",
       "      <td>0.000051</td>\n",
       "      <td>0.000045</td>\n",
       "      <td>0.000082</td>\n",
       "      <td>0.000153</td>\n",
       "    </tr>\n",
       "    <tr>\n",
       "      <th>IOC.BO</th>\n",
       "      <td>0.000051</td>\n",
       "      <td>0.002062</td>\n",
       "      <td>-0.000006</td>\n",
       "      <td>0.000056</td>\n",
       "      <td>0.000058</td>\n",
       "    </tr>\n",
       "    <tr>\n",
       "      <th>KRITIIND.BO</th>\n",
       "      <td>0.000045</td>\n",
       "      <td>-0.000006</td>\n",
       "      <td>0.001180</td>\n",
       "      <td>0.000117</td>\n",
       "      <td>0.000066</td>\n",
       "    </tr>\n",
       "    <tr>\n",
       "      <th>NMDC.BO</th>\n",
       "      <td>0.000082</td>\n",
       "      <td>0.000056</td>\n",
       "      <td>0.000117</td>\n",
       "      <td>0.000372</td>\n",
       "      <td>0.000123</td>\n",
       "    </tr>\n",
       "    <tr>\n",
       "      <th>SBIN.NS</th>\n",
       "      <td>0.000153</td>\n",
       "      <td>0.000058</td>\n",
       "      <td>0.000066</td>\n",
       "      <td>0.000123</td>\n",
       "      <td>0.000442</td>\n",
       "    </tr>\n",
       "  </tbody>\n",
       "</table>\n",
       "</div>"
      ],
      "text/plain": [
       "             AXISBANK.BO    IOC.BO  KRITIIND.BO   NMDC.BO   SBIN.NS\n",
       "AXISBANK.BO     0.000313  0.000051     0.000045  0.000082  0.000153\n",
       "IOC.BO          0.000051  0.002062    -0.000006  0.000056  0.000058\n",
       "KRITIIND.BO     0.000045 -0.000006     0.001180  0.000117  0.000066\n",
       "NMDC.BO         0.000082  0.000056     0.000117  0.000372  0.000123\n",
       "SBIN.NS         0.000153  0.000058     0.000066  0.000123  0.000442"
      ]
     },
     "execution_count": 8,
     "metadata": {},
     "output_type": "execute_result"
    }
   ],
   "source": [
    "cov"
   ]
  },
  {
   "cell_type": "markdown",
   "metadata": {},
   "source": [
    "### Max Sharpe Ratio"
   ]
  },
  {
   "cell_type": "code",
   "execution_count": 9,
   "metadata": {},
   "outputs": [
    {
     "name": "stdout",
     "output_type": "stream",
     "text": [
      "Max Sharpe Ratio: [[1.10137345]]\n",
      "Best Weights: [[0.52032484 0.18440041 0.02873615 0.04269286 0.22384574]]\n",
      "Portfolio Volatility: [[24.49883702]]%, Sum of weights: 1.0\n",
      "Max Expected Annual Return: 26.98236865455188%\n"
     ]
    }
   ],
   "source": [
    "srs = []\n",
    "portfolio_stds = []\n",
    "rand_wts = []\n",
    "portfolio_returns = []\n",
    "risk_free_rate = 0\n",
    "for i in range(0, 20000):\n",
    "    random_weights = np.random.dirichlet(np.ones(5), size = 1).T\n",
    "    rand_wts.append(random_weights)\n",
    "    # portolfio return\n",
    "    portfolio_return = np.sum(mean_daily_returns * random_weights)*252\n",
    "    portfolio_returns.append(portfolio_return)\n",
    "    # portfolio volatility\n",
    "    portfolio_std = np.sqrt(np.dot(random_weights.T, np.dot(cov, random_weights))) * np.sqrt(252)\n",
    "    portfolio_stds.append(portfolio_std)\n",
    "    # sharpe ratio\n",
    "    sharpe_ratio = (portfolio_return - risk_free_rate) / portfolio_std\n",
    "    srs.append(sharpe_ratio)\n",
    "max_index = srs.index(max(srs))\n",
    "best_wts = rand_wts[max_index]\n",
    "max_sr = srs[max_index]\n",
    "portfolio_sd = portfolio_stds[max_index]\n",
    "max_return = portfolio_returns[max_index]\n",
    "print(f\"Max Sharpe Ratio: {max_sr}\")\n",
    "print(f\"Best Weights: {best_wts.T}\")\n",
    "print(f\"Portfolio Volatility: {portfolio_sd*100}%, Sum of weights: {np.sum(best_wts)}\")\n",
    "print(f\"Max Expected Annual Return: {max_return*100}%\")"
   ]
  },
  {
   "cell_type": "markdown",
   "metadata": {},
   "source": [
    "### Minimum Variance"
   ]
  },
  {
   "cell_type": "code",
   "execution_count": 10,
   "metadata": {},
   "outputs": [
    {
     "data": {
      "text/plain": [
       "AXISBANK.BO    0.017697\n",
       "IOC.BO         0.045414\n",
       "KRITIIND.BO    0.034347\n",
       "NMDC.BO        0.019282\n",
       "SBIN.NS        0.021021\n",
       "dtype: float64"
      ]
     },
     "execution_count": 10,
     "metadata": {},
     "output_type": "execute_result"
    }
   ],
   "source": [
    "returns.std()"
   ]
  },
  {
   "cell_type": "code",
   "execution_count": 11,
   "metadata": {},
   "outputs": [
    {
     "data": {
      "text/plain": [
       "(5, 1)"
      ]
     },
     "execution_count": 11,
     "metadata": {},
     "output_type": "execute_result"
    }
   ],
   "source": [
    "stds = np.array(returns.std()).reshape(-1, 1)\n",
    "stds.shape"
   ]
  },
  {
   "cell_type": "code",
   "execution_count": 12,
   "metadata": {},
   "outputs": [
    {
     "data": {
      "text/plain": [
       "array([[0.00031318, 0.00080368, 0.00060783, 0.00034124, 0.000372  ],\n",
       "       [0.00080368, 0.00206243, 0.00155984, 0.00087569, 0.00095465],\n",
       "       [0.00060783, 0.00155984, 0.00117972, 0.00066229, 0.00072201],\n",
       "       [0.00034124, 0.00087569, 0.00066229, 0.00037181, 0.00040534],\n",
       "       [0.000372  , 0.00095465, 0.00072201, 0.00040534, 0.00044188]])"
      ]
     },
     "execution_count": 12,
     "metadata": {},
     "output_type": "execute_result"
    }
   ],
   "source": [
    "product_std = np.dot(stds, stds.T)\n",
    "product_std"
   ]
  },
  {
   "cell_type": "code",
   "execution_count": 13,
   "metadata": {},
   "outputs": [
    {
     "data": {
      "text/plain": [
       "array([[ 3.13176898e-04,  5.05175906e-05,  4.46357365e-05,\n",
       "         8.24726570e-05,  1.53254676e-04],\n",
       "       [ 5.05175906e-05,  2.06243079e-03, -5.83668556e-06,\n",
       "         5.59780218e-05,  5.77919986e-05],\n",
       "       [ 4.46357365e-05, -5.83668556e-06,  1.17971839e-03,\n",
       "         1.16677989e-04,  6.57182327e-05],\n",
       "       [ 8.24726570e-05,  5.59780218e-05,  1.16677989e-04,\n",
       "         3.71812827e-04,  1.22674048e-04],\n",
       "       [ 1.53254676e-04,  5.77919986e-05,  6.57182327e-05,\n",
       "         1.22674048e-04,  4.41880725e-04]])"
      ]
     },
     "execution_count": 13,
     "metadata": {},
     "output_type": "execute_result"
    }
   ],
   "source": [
    "cov_mat = np.array(cov)\n",
    "cov_mat"
   ]
  },
  {
   "cell_type": "markdown",
   "metadata": {},
   "source": [
    "#### Correlation Matrix"
   ]
  },
  {
   "cell_type": "code",
   "execution_count": 14,
   "metadata": {},
   "outputs": [
    {
     "data": {
      "text/plain": [
       "array([[ 1.        ,  0.06285764,  0.07343425,  0.24168681,  0.41197072],\n",
       "       [ 0.06285764,  1.        , -0.00374186,  0.06392425,  0.06053764],\n",
       "       [ 0.07343425, -0.00374186,  1.        ,  0.17617228,  0.09102154],\n",
       "       [ 0.24168681,  0.06392425,  0.17617228,  1.        ,  0.30264812],\n",
       "       [ 0.41197072,  0.06053764,  0.09102154,  0.30264812,  1.        ]])"
      ]
     },
     "execution_count": 14,
     "metadata": {},
     "output_type": "execute_result"
    }
   ],
   "source": [
    "corr = cov_mat / product_std\n",
    "corr"
   ]
  },
  {
   "cell_type": "code",
   "execution_count": 15,
   "metadata": {},
   "outputs": [
    {
     "name": "stdout",
     "output_type": "stream",
     "text": [
      "Best Weights: [[0.36510317]\n",
      " [0.06766384]\n",
      " [0.12202986]\n",
      " [0.28916003]\n",
      " [0.1560431 ]], Minimum Portfolio Variance: 1.3307006605009313, Sum of weights: 1.0000000000000002\n",
      "Return: 19.939164601395106%\n"
     ]
    }
   ],
   "source": [
    "port_vars = []\n",
    "rand_wts = []\n",
    "for i in range(0, 10000):\n",
    "    random_weights = np.random.dirichlet(np.ones(5), size = 1).T\n",
    "    rand_wts.append(random_weights)\n",
    "    random_weighted_sd = stds * random_weights\n",
    "    portfolio_var = np.sqrt(np.sum(np.dot(random_weighted_sd.T, np.dot(corr, random_weighted_sd))))*100\n",
    "    port_vars.append(portfolio_var)\n",
    "min_index = port_vars.index(min(port_vars))\n",
    "best_wts = rand_wts[min_index]\n",
    "min_var = port_vars[min_index]\n",
    "portfolio_return = np.sum(mean_daily_returns * best_wts)*252\n",
    "print(f\"Best Weights: {best_wts}, Minimum Portfolio Variance: {min_var}, Sum of weights: {np.sum(best_wts)}\")\n",
    "print(f\"Return: {portfolio_return*100}%\")"
   ]
  },
  {
   "cell_type": "markdown",
   "metadata": {},
   "source": [
    "### Monthly, Quarterly, Half-Yearly, Yearly"
   ]
  },
  {
   "cell_type": "code",
   "execution_count": 16,
   "metadata": {},
   "outputs": [
    {
     "name": "stdout",
     "output_type": "stream",
     "text": [
      "Monthly Avg Returns: [1.8588962544346903, 2.5834192184126907, 0.41000984388702855, 0.5522924367301297, 1.9931008006740771]\n",
      "Quarterly Avg Return: [5.443626709232184, 7.440080264969452, 0.3237652138705989, 1.5293753691705188, 5.3116615893380015]\n",
      "Half Yearly Avg Return: [10.750451815842801, 16.17892489825639, 0.12905901826752256, 3.379752258880238, 9.931464358435624]\n",
      "Yearly Avg Return: [23.309802871503535, 42.891757557849104, 2.7478150057574258, 8.933614280521, 22.514846391858487]\n"
     ]
    }
   ],
   "source": [
    "e = stock_data\n",
    "monthly = 0\n",
    "quarterly = 0\n",
    "half_yearly = 0\n",
    "yearly = 0\n",
    "# monthly\n",
    "start = \"2016-04-01\"\n",
    "for i in range(36):\n",
    "    end = start[:5]\n",
    "    month = int(start[5:7]) + 1\n",
    "    if month <= 9:\n",
    "        end += '0' + str(month) + start[7:]\n",
    "    elif month > 12:\n",
    "        end = str(int(start[:4]) + 1) + '-01-01'\n",
    "    else:\n",
    "        end += str(month) + start[7:]\n",
    "    sliced_data = e.loc[(e.index >= start) & (e.index <= end)]\n",
    "    monthly += (sliced_data.iloc[-1]/sliced_data.iloc[0] - 1)\n",
    "    start = end\n",
    "# quarterly\n",
    "start = \"2016-04-01\"\n",
    "for i in range(12):\n",
    "    end = start[:5]\n",
    "    month = int(start[5:7]) + 3\n",
    "    if month <= 9:\n",
    "        end += '0' + str(month) + start[7:]\n",
    "    elif month == 13:\n",
    "        end = str(int(start[:4]) + 1) + '-01-01'\n",
    "    else:\n",
    "        end += str(month) + start[7:]\n",
    "    sliced_data = e.loc[(e.index >= start) & (e.index <= end)]\n",
    "    quarterly += (sliced_data.iloc[-1]/sliced_data.iloc[0] - 1)\n",
    "    start = end\n",
    "# half-yearly\n",
    "start = \"2016-04-01\"\n",
    "for i in range(6):\n",
    "    end = start[:5]\n",
    "    month = int(start[5:7]) + 6\n",
    "    if month == 16:\n",
    "        end = str(int(start[:4]) + 1) + '-04-01'\n",
    "    else:\n",
    "        end += str(month) + start[7:]\n",
    "    sliced_data = e.loc[(e.index >= start) & (e.index <= end)]\n",
    "    half_yearly += (sliced_data.iloc[-1]/sliced_data.iloc[0] - 1)\n",
    "    start = end\n",
    "# yearly\n",
    "start = \"2016-04-01\"\n",
    "for i in range(3):\n",
    "    end = str(int(start[:4]) + 1) + start[4:]\n",
    "    sliced_data = e.loc[(e.index >= start) & (e.index <= end)]\n",
    "    yearly += (sliced_data.iloc[-1]/sliced_data.iloc[0] - 1)\n",
    "    start = end\n",
    "\n",
    "avgs = [list(monthly*100/36), list(quarterly*100/12), list(half_yearly*100/6), list(yearly*100/3)]\n",
    "print(f\"Monthly Avg Returns: {avgs[0]}\")\n",
    "print(f\"Quarterly Avg Return: {avgs[1]}\")\n",
    "print(f\"Half Yearly Avg Return: {avgs[2]}\")\n",
    "print(f\"Yearly Avg Return: {avgs[3]}\")"
   ]
  },
  {
   "cell_type": "code",
   "execution_count": 17,
   "metadata": {
    "scrolled": true
   },
   "outputs": [
    {
     "name": "stdout",
     "output_type": "stream",
     "text": [
      "[1.8588962544346903, 2.5834192184126907, 0.41000984388702855, 0.5522924367301297, 1.9931008006740771]\n",
      "[[0.17590559 0.09856396 0.19498086 0.49692799 0.0336216 ]]\n",
      "[[0.32699024 0.25463202 0.07994407 0.27444957 0.06701125]]\n",
      "1.0030271510032864\n",
      "[5.443626709232184, 7.440080264969452, 0.3237652138705989, 1.5293753691705188, 5.3116615893380015]\n",
      "[[0.19597723 0.31692101 0.10368083 0.24573446 0.13768646]]\n",
      "[[1.06682689 2.35791778 0.03356825 0.37582023 0.7313439 ]]\n",
      "4.565477038923461\n",
      "[10.750451815842801, 16.17892489825639, 0.12905901826752256, 3.379752258880238, 9.931464358435624]\n",
      "[[0.050236   0.21080162 0.26986886 0.19308995 0.27600357]]\n",
      "[[0.54005975 3.41054355 0.03482901 0.6525962  2.74111959]]\n",
      "7.379148096809535\n",
      "[23.309802871503535, 42.891757557849104, 2.7478150057574258, 8.933614280521, 22.514846391858487]\n",
      "[[0.14094787 0.2891806  0.25002137 0.04966862 0.27018154]]\n",
      "[[ 3.28546701 12.40346413  0.68701247  0.44372031  6.08309594]]\n",
      "22.90275986402436\n"
     ]
    }
   ],
   "source": [
    "for avg in avgs:\n",
    "    random_weights = np.random.dirichlet(np.ones(5), size = 1).T\n",
    "    total_return = avg * random_weights.T\n",
    "    print(avg)\n",
    "    print(random_weights.T)\n",
    "    print(total_return)\n",
    "    print(np.sum(total_return))"
   ]
  },
  {
   "cell_type": "code",
   "execution_count": 18,
   "metadata": {},
   "outputs": [
    {
     "name": "stdout",
     "output_type": "stream",
     "text": [
      "Best Performance: Yearly\n",
      "Best Return: 25.330269687385375%, Minimum Portfolio Variance: 1.468733802514229\n",
      "Best Weights: [[0.41873537]\n",
      " [0.14500007]\n",
      " [0.02931653]\n",
      " [0.09309007]\n",
      " [0.31385797]], Sum of weights: 1.0\n"
     ]
    }
   ],
   "source": [
    "types = ['Monthly', 'Quarterly', 'Half-Yearly', 'Yearly']\n",
    "best_wts_for_avgs = []\n",
    "annual_returns_for_avgs = []\n",
    "port_vars_for_avgs = []\n",
    "for avg in avgs:\n",
    "    min_port_var = 1.42\n",
    "    max_port_var = 1.47\n",
    "    port_vars = []\n",
    "    returns = []\n",
    "    rand_wts = []\n",
    "    for i in range(0, 10000):\n",
    "        random_weights = np.random.dirichlet(np.ones(5), size = 1).T\n",
    "        random_weighted_sd = stds * random_weights\n",
    "        portfolio_var = np.sqrt(np.sum(np.dot(random_weighted_sd.T, np.dot(corr, random_weighted_sd))))*100\n",
    "        if (portfolio_var >= min_port_var) & (portfolio_var <= max_port_var):\n",
    "            port_vars.append(portfolio_var)\n",
    "            rand_wts.append(random_weights)\n",
    "            total_return = np.sum(avg * random_weights.T)\n",
    "            returns.append(total_return)\n",
    "    max_index = returns.index(max(returns))\n",
    "    max_return = returns[max_index]\n",
    "    best_wts = rand_wts[max_index]\n",
    "    min_var = port_vars[max_index]\n",
    "\n",
    "    best_wts_for_avgs.append(best_wts)\n",
    "    port_vars_for_avgs.append(min_var)\n",
    "    annual_ret = np.sum(mean_daily_returns * best_wts)*252\n",
    "    annual_returns_for_avgs.append(annual_ret)\n",
    "\n",
    "max_index = annual_returns_for_avgs.index(max(annual_returns_for_avgs))\n",
    "maximum_return = annual_returns_for_avgs[max_index]\n",
    "bestest_wts = best_wts_for_avgs[max_index]\n",
    "miniest_var = port_vars_for_avgs[max_index]\n",
    "print(f\"Best Performance: {types[max_index]}\")\n",
    "print(f\"Best Return: {maximum_return*100}%, Minimum Portfolio Variance: {miniest_var}\")\n",
    "print(f\"Best Weights: {bestest_wts}, Sum of weights: {np.sum(bestest_wts)}\")"
   ]
  },
  {
   "cell_type": "code",
   "execution_count": 19,
   "metadata": {},
   "outputs": [
    {
     "name": "stdout",
     "output_type": "stream",
     "text": [
      "{'Monthly': 24.45750341827336, 'Quarterly': 24.36966589915857, 'Half-Yearly': 25.10544299353945, 'Yearly': 25.330269687385375}\n"
     ]
    }
   ],
   "source": [
    "ordered_types = {}\n",
    "for i in range(4):\n",
    "    ordered_types[types[i]] = annual_returns_for_avgs[i]*100\n",
    "print(ordered_types)"
   ]
  }
 ],
 "metadata": {
  "kernelspec": {
   "display_name": "Python 3",
   "language": "python",
   "name": "python3"
  },
  "language_info": {
   "codemirror_mode": {
    "name": "ipython",
    "version": 3
   },
   "file_extension": ".py",
   "mimetype": "text/x-python",
   "name": "python",
   "nbconvert_exporter": "python",
   "pygments_lexer": "ipython3",
   "version": "3.7.6"
  }
 },
 "nbformat": 4,
 "nbformat_minor": 4
}
