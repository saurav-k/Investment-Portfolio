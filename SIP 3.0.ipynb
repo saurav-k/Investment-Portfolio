{
 "cells": [
  {
   "cell_type": "code",
   "execution_count": 1,
   "metadata": {},
   "outputs": [],
   "source": [
    "import numpy as np\n",
    "import yfinance as yf\n",
    "from math import sqrt\n",
    "from pandas_datareader import data as pdr"
   ]
  },
  {
   "cell_type": "code",
   "execution_count": 2,
   "metadata": {},
   "outputs": [],
   "source": [
    "eq = []\n",
    "syms = ['SBIN.NS', 'AXISBANK.BO', 'IOC.BO', 'NMDC.BO', 'KRITIIND.BO']\n",
    "for i in range(5):\n",
    "    eq.append(pdr.get_data_yahoo(syms[i], start = '2016-07-02', end = '2019-07-02'))"
   ]
  },
  {
   "cell_type": "code",
   "execution_count": 3,
   "metadata": {},
   "outputs": [
    {
     "data": {
      "text/html": [
       "<div>\n",
       "<style scoped>\n",
       "    .dataframe tbody tr th:only-of-type {\n",
       "        vertical-align: middle;\n",
       "    }\n",
       "\n",
       "    .dataframe tbody tr th {\n",
       "        vertical-align: top;\n",
       "    }\n",
       "\n",
       "    .dataframe thead th {\n",
       "        text-align: right;\n",
       "    }\n",
       "</style>\n",
       "<table border=\"1\" class=\"dataframe\">\n",
       "  <thead>\n",
       "    <tr style=\"text-align: right;\">\n",
       "      <th></th>\n",
       "      <th>High</th>\n",
       "      <th>Low</th>\n",
       "      <th>Open</th>\n",
       "      <th>Close</th>\n",
       "      <th>Volume</th>\n",
       "      <th>Adj Close</th>\n",
       "    </tr>\n",
       "    <tr>\n",
       "      <th>Date</th>\n",
       "      <th></th>\n",
       "      <th></th>\n",
       "      <th></th>\n",
       "      <th></th>\n",
       "      <th></th>\n",
       "      <th></th>\n",
       "    </tr>\n",
       "  </thead>\n",
       "  <tbody>\n",
       "    <tr>\n",
       "      <th>2016-07-04</th>\n",
       "      <td>224.350006</td>\n",
       "      <td>222.000000</td>\n",
       "      <td>222.350006</td>\n",
       "      <td>223.000000</td>\n",
       "      <td>16534518.0</td>\n",
       "      <td>221.001373</td>\n",
       "    </tr>\n",
       "    <tr>\n",
       "      <th>2016-07-05</th>\n",
       "      <td>225.149994</td>\n",
       "      <td>221.550003</td>\n",
       "      <td>223.250000</td>\n",
       "      <td>223.500000</td>\n",
       "      <td>15357018.0</td>\n",
       "      <td>221.496887</td>\n",
       "    </tr>\n",
       "    <tr>\n",
       "      <th>2016-07-07</th>\n",
       "      <td>224.600006</td>\n",
       "      <td>219.350006</td>\n",
       "      <td>223.899994</td>\n",
       "      <td>220.050003</td>\n",
       "      <td>12917872.0</td>\n",
       "      <td>218.077820</td>\n",
       "    </tr>\n",
       "    <tr>\n",
       "      <th>2016-07-08</th>\n",
       "      <td>220.850006</td>\n",
       "      <td>216.500000</td>\n",
       "      <td>220.149994</td>\n",
       "      <td>218.300003</td>\n",
       "      <td>16017389.0</td>\n",
       "      <td>216.343506</td>\n",
       "    </tr>\n",
       "    <tr>\n",
       "      <th>2016-07-11</th>\n",
       "      <td>225.449997</td>\n",
       "      <td>222.000000</td>\n",
       "      <td>223.600006</td>\n",
       "      <td>224.699997</td>\n",
       "      <td>15831791.0</td>\n",
       "      <td>222.686127</td>\n",
       "    </tr>\n",
       "  </tbody>\n",
       "</table>\n",
       "</div>"
      ],
      "text/plain": [
       "                  High         Low        Open       Close      Volume  \\\n",
       "Date                                                                     \n",
       "2016-07-04  224.350006  222.000000  222.350006  223.000000  16534518.0   \n",
       "2016-07-05  225.149994  221.550003  223.250000  223.500000  15357018.0   \n",
       "2016-07-07  224.600006  219.350006  223.899994  220.050003  12917872.0   \n",
       "2016-07-08  220.850006  216.500000  220.149994  218.300003  16017389.0   \n",
       "2016-07-11  225.449997  222.000000  223.600006  224.699997  15831791.0   \n",
       "\n",
       "             Adj Close  \n",
       "Date                    \n",
       "2016-07-04  221.001373  \n",
       "2016-07-05  221.496887  \n",
       "2016-07-07  218.077820  \n",
       "2016-07-08  216.343506  \n",
       "2016-07-11  222.686127  "
      ]
     },
     "execution_count": 3,
     "metadata": {},
     "output_type": "execute_result"
    }
   ],
   "source": [
    "eq[0].head()"
   ]
  },
  {
   "cell_type": "code",
   "execution_count": 4,
   "metadata": {},
   "outputs": [
    {
     "name": "stdout",
     "output_type": "stream",
     "text": [
      "Date\n",
      "2016-07-04    0.292329\n",
      "2016-07-05    0.111982\n",
      "2016-07-07   -1.719514\n",
      "2016-07-08   -0.840332\n",
      "2016-07-11    0.491946\n",
      "Name: Daily Return, dtype: float64\n",
      "Date\n",
      "2016-07-04   -0.384611\n",
      "2016-07-05   -0.350882\n",
      "2016-07-07    0.509542\n",
      "2016-07-08    1.007396\n",
      "2016-07-11   -1.117171\n",
      "Name: Daily Return, dtype: float64\n",
      "Date\n",
      "2016-07-04    1.064980\n",
      "2016-07-05   -0.645835\n",
      "2016-07-07   -0.796643\n",
      "2016-07-08   -0.594477\n",
      "2016-07-11    1.335736\n",
      "Name: Daily Return, dtype: float64\n",
      "Date\n",
      "2016-07-04    0.105931\n",
      "2016-07-05    0.685648\n",
      "2016-07-07   -0.312503\n",
      "2016-07-08   -1.662336\n",
      "2016-07-11    0.996849\n",
      "Name: Daily Return, dtype: float64\n",
      "Date\n",
      "2016-07-04    0.952381\n",
      "2016-07-05   -1.824818\n",
      "2016-07-07    2.416355\n",
      "2016-07-08   -6.055044\n",
      "2016-07-11    5.928854\n",
      "Name: Daily Return, dtype: float64\n"
     ]
    }
   ],
   "source": [
    "for e in eq:\n",
    "    e['Daily Return'] = (e['Close'] - e['Open'])*100 / e['Open']\n",
    "    print(e['Daily Return'].head())"
   ]
  },
  {
   "cell_type": "code",
   "execution_count": 5,
   "metadata": {},
   "outputs": [
    {
     "name": "stdout",
     "output_type": "stream",
     "text": [
      "Date\n",
      "2016-07-04    0.391711\n",
      "2016-07-05    0.211364\n",
      "2016-07-07   -1.620132\n",
      "2016-07-08   -0.740950\n",
      "2016-07-11    0.591328\n",
      "Name: Ret - avg, dtype: float64\n",
      "Date\n",
      "2016-07-04   -0.275739\n",
      "2016-07-05   -0.242010\n",
      "2016-07-07    0.618414\n",
      "2016-07-08    1.116268\n",
      "2016-07-11   -1.008299\n",
      "Name: Ret - avg, dtype: float64\n",
      "Date\n",
      "2016-07-04    1.326703\n",
      "2016-07-05   -0.384112\n",
      "2016-07-07   -0.534920\n",
      "2016-07-08   -0.332754\n",
      "2016-07-11    1.597459\n",
      "Name: Ret - avg, dtype: float64\n",
      "Date\n",
      "2016-07-04    0.366216\n",
      "2016-07-05    0.945933\n",
      "2016-07-07   -0.052217\n",
      "2016-07-08   -1.402050\n",
      "2016-07-11    1.257135\n",
      "Name: Ret - avg, dtype: float64\n",
      "Date\n",
      "2016-07-04    1.364777\n",
      "2016-07-05   -1.412421\n",
      "2016-07-07    2.828752\n",
      "2016-07-08   -5.642648\n",
      "2016-07-11    6.341250\n",
      "Name: Ret - avg, dtype: float64\n"
     ]
    }
   ],
   "source": [
    "for e in eq:\n",
    "    avg = np.mean(e['Daily Return'])\n",
    "    e['Ret - avg'] = e['Daily Return'] - avg\n",
    "    print(e['Ret - avg'].head())"
   ]
  },
  {
   "cell_type": "code",
   "execution_count": 6,
   "metadata": {},
   "outputs": [
    {
     "data": {
      "text/plain": [
       "array([[ 0.39171124, -0.27573936,  1.3267027 ,  0.36621646,  1.36477703],\n",
       "       [ 0.21136417, -0.24201015, -0.38411168,  0.94593342, -1.41242147],\n",
       "       [-1.62013151,  0.61841388, -0.53492022, -0.05221731,  2.82875157],\n",
       "       [-0.74094991,  1.11626752, -0.33275431, -1.4020502 , -5.6426484 ],\n",
       "       [ 0.59132789, -1.0082991 ,  1.59745941,  1.25713469,  6.34125001]])"
      ]
     },
     "execution_count": 6,
     "metadata": {},
     "output_type": "execute_result"
    }
   ],
   "source": [
    "m = eq[0].shape[0]\n",
    "n = len(eq)\n",
    "excess_return = np.zeros([m, n])\n",
    "for i in range(n):\n",
    "    excess_return[:, i] = eq[i]['Ret - avg']\n",
    "excess_return[:5]"
   ]
  },
  {
   "cell_type": "code",
   "execution_count": 7,
   "metadata": {},
   "outputs": [
    {
     "data": {
      "text/plain": [
       "array([[ 2416.06861144,   937.61563418,   494.3344682 ,   731.92591291,\n",
       "          610.56427023],\n",
       "       [  937.61563418,  2180.14029773,   438.07725962,   463.2781788 ,\n",
       "          258.99365099],\n",
       "       [  494.3344682 ,   438.07725962,  2515.93900851,   610.90168995,\n",
       "          326.50164511],\n",
       "       [  731.92591291,   463.2781788 ,   610.90168995,  2471.90168032,\n",
       "          721.04214973],\n",
       "       [  610.56427023,   258.99365099,   326.50164511,   721.04214973,\n",
       "        10151.26913492]])"
      ]
     },
     "execution_count": 7,
     "metadata": {},
     "output_type": "execute_result"
    }
   ],
   "source": [
    "X = excess_return\n",
    "mat = np.dot(np.transpose(X), X)\n",
    "mat[:5]"
   ]
  },
  {
   "cell_type": "code",
   "execution_count": 8,
   "metadata": {},
   "outputs": [
    {
     "data": {
      "text/plain": [
       "array([[ 3.27380571,  1.27048189,  0.6698299 ,  0.99176953,  0.82732286],\n",
       "       [ 1.27048189,  2.95411964,  0.59360062,  0.62774821,  0.35093991],\n",
       "       [ 0.6698299 ,  0.59360062,  3.40913145,  0.82778007,  0.44241415],\n",
       "       [ 0.99176953,  0.62774821,  0.82778007,  3.34946027,  0.97702188],\n",
       "       [ 0.82732286,  0.35093991,  0.44241415,  0.97702188, 13.75510723]])"
      ]
     },
     "execution_count": 8,
     "metadata": {},
     "output_type": "execute_result"
    }
   ],
   "source": [
    "vcm = mat / m\n",
    "vcm[:5]"
   ]
  },
  {
   "cell_type": "code",
   "execution_count": 9,
   "metadata": {},
   "outputs": [
    {
     "name": "stdout",
     "output_type": "stream",
     "text": [
      "[1.809366106279542, 1.718755260244544, 1.8463833426041016, 1.8301530732265505, 3.708787838215061]\n"
     ]
    }
   ],
   "source": [
    "std = []\n",
    "for e in eq:\n",
    "    mean = np.mean(e['Daily Return'])\n",
    "    m = e.shape[0]\n",
    "    st = sqrt(np.sum((e['Daily Return'] - mean)**2) / m)\n",
    "    std.append(st)\n",
    "print(std)"
   ]
  },
  {
   "cell_type": "code",
   "execution_count": 10,
   "metadata": {},
   "outputs": [],
   "source": [
    "stds = np.array(std).reshape(-1, 1)"
   ]
  },
  {
   "cell_type": "code",
   "execution_count": 11,
   "metadata": {},
   "outputs": [
    {
     "data": {
      "text/plain": [
       "(5, 5)"
      ]
     },
     "execution_count": 11,
     "metadata": {},
     "output_type": "execute_result"
    }
   ],
   "source": [
    "product_std = np.dot(stds, np.transpose(stds))\n",
    "product_std.shape"
   ]
  },
  {
   "cell_type": "markdown",
   "metadata": {},
   "source": [
    "### Correlation\n",
    "**corr = variance_covariance_matrix / product_of_sds**"
   ]
  },
  {
   "cell_type": "code",
   "execution_count": 12,
   "metadata": {},
   "outputs": [
    {
     "name": "stdout",
     "output_type": "stream",
     "text": [
      "[[1.         0.40853379 0.20050085 0.29950005 0.1232868 ]\n",
      " [0.40853379 1.         0.18705031 0.19956484 0.05505373]\n",
      " [0.20050085 0.18705031 1.         0.24496592 0.06460634]\n",
      " [0.29950005 0.19956484 0.24496592 1.         0.14394112]\n",
      " [0.1232868  0.05505373 0.06460634 0.14394112 1.        ]]\n"
     ]
    }
   ],
   "source": [
    "corr = vcm / product_std\n",
    "print(corr)"
   ]
  },
  {
   "cell_type": "code",
   "execution_count": 13,
   "metadata": {},
   "outputs": [
    {
     "data": {
      "text/plain": [
       "(5, 1)"
      ]
     },
     "execution_count": 13,
     "metadata": {},
     "output_type": "execute_result"
    }
   ],
   "source": [
    "weights = np.array([0.2, 0.2, 0.2, 0.2, 0.2]).reshape(-1, 1)\n",
    "weights.shape"
   ]
  },
  {
   "cell_type": "code",
   "execution_count": 14,
   "metadata": {},
   "outputs": [
    {
     "name": "stdout",
     "output_type": "stream",
     "text": [
      "[[0.36187322]\n",
      " [0.34375105]\n",
      " [0.36927667]\n",
      " [0.36603061]\n",
      " [0.74175757]] [[1.80936611]\n",
      " [1.71875526]\n",
      " [1.84638334]\n",
      " [1.83015307]\n",
      " [3.70878784]]\n"
     ]
    }
   ],
   "source": [
    "weighted_sd = stds * 0.2\n",
    "print(weighted_sd, stds)"
   ]
  },
  {
   "cell_type": "markdown",
   "metadata": {},
   "source": [
    "### Portfolio Variance\n",
    "**Portfolio Variance = Sqrt (Transpose (Wt.SD) * Correlation Matrix * Wt. SD)**"
   ]
  },
  {
   "cell_type": "code",
   "execution_count": 15,
   "metadata": {},
   "outputs": [
    {
     "data": {
      "text/plain": [
       "1.6759776938960191"
      ]
     },
     "execution_count": 15,
     "metadata": {},
     "output_type": "execute_result"
    }
   ],
   "source": [
    "portfolio_var = np.dot(np.dot(np.transpose(weighted_sd), corr), weighted_sd)\n",
    "portfolio_var[0][0]"
   ]
  },
  {
   "cell_type": "code",
   "execution_count": 16,
   "metadata": {},
   "outputs": [
    {
     "data": {
      "text/plain": [
       "1.2945955715573954"
      ]
     },
     "execution_count": 16,
     "metadata": {},
     "output_type": "execute_result"
    }
   ],
   "source": [
    "final_pv = sqrt(portfolio_var[0][0])\n",
    "final_pv"
   ]
  },
  {
   "cell_type": "markdown",
   "metadata": {},
   "source": [
    "### Minimizing Portfolio Variance"
   ]
  },
  {
   "cell_type": "code",
   "execution_count": 17,
   "metadata": {},
   "outputs": [],
   "source": [
    "from scipy.optimize import minimize"
   ]
  },
  {
   "cell_type": "code",
   "execution_count": 18,
   "metadata": {},
   "outputs": [],
   "source": [
    "def portfolio_variance(weights, stds, corr):\n",
    "    weighted_sd = weights * stds\n",
    "    k = np.dot(np.transpose(weighted_sd), corr)\n",
    "    ans = np.dot(k, weighted_sd)[0][0]\n",
    "    return sqrt(ans)"
   ]
  },
  {
   "cell_type": "code",
   "execution_count": 19,
   "metadata": {},
   "outputs": [],
   "source": [
    "cons = ({'type': 'eq', 'fun': lambda x: np.sum(x) - 1})\n",
    "bnds = ((0.001, 1), (0.001, 1), (0.001, 1), (0.001, 1), (0.001, 1))"
   ]
  },
  {
   "cell_type": "code",
   "execution_count": 20,
   "metadata": {
    "scrolled": true
   },
   "outputs": [
    {
     "data": {
      "text/plain": [
       "     fun: 0.006472977858323092\n",
       "     jac: array([6.47297786, 0.        , 0.        , 0.        , 0.        ])\n",
       " message: 'Optimization terminated successfully.'\n",
       "    nfev: 14\n",
       "     nit: 2\n",
       "    njev: 2\n",
       "  status: 0\n",
       " success: True\n",
       "       x: array([0.001  , 0.37475, 0.27475, 0.17475, 0.17475])"
      ]
     },
     "execution_count": 20,
     "metadata": {},
     "output_type": "execute_result"
    }
   ],
   "source": [
    "minimize(portfolio_variance, [0.3, 0.3, 0.2, 0.1, 0.1], args = (stds, corr),\n",
    "         method = \"SLSQP\", constraints = cons, bounds = bnds)"
   ]
  },
  {
   "cell_type": "code",
   "execution_count": 21,
   "metadata": {},
   "outputs": [],
   "source": [
    "min_op = minimize(portfolio_variance, [0.3, 0.3, 0.2, 0.1, 0.1], args = (stds, corr),\n",
    "         method = \"SLSQP\", constraints = cons, bounds = bnds)"
   ]
  },
  {
   "cell_type": "code",
   "execution_count": 22,
   "metadata": {},
   "outputs": [],
   "source": [
    "best_weights = min_op.x.reshape(-1, 1)"
   ]
  },
  {
   "cell_type": "code",
   "execution_count": 23,
   "metadata": {},
   "outputs": [],
   "source": [
    "min_variance = min_op.fun"
   ]
  },
  {
   "cell_type": "code",
   "execution_count": 24,
   "metadata": {},
   "outputs": [
    {
     "name": "stdout",
     "output_type": "stream",
     "text": [
      "Best Weights to achieve minimum portfolio variance: [[0.001  ]\n",
      " [0.37475]\n",
      " [0.27475]\n",
      " [0.17475]\n",
      " [0.17475]]\n",
      "Minimum value of porfolio variance: 0.006472977858323092\n"
     ]
    }
   ],
   "source": [
    "print(f\"Best Weights to achieve minimum portfolio variance: {best_weights}\")\n",
    "print(f\"Minimum value of porfolio variance: {float(min_variance)}\")"
   ]
  },
  {
   "cell_type": "code",
   "execution_count": 25,
   "metadata": {},
   "outputs": [
    {
     "name": "stdout",
     "output_type": "stream",
     "text": [
      "1.0\n"
     ]
    }
   ],
   "source": [
    "print(np.sum(best_weights))"
   ]
  },
  {
   "cell_type": "code",
   "execution_count": 26,
   "metadata": {},
   "outputs": [
    {
     "data": {
      "text/plain": [
       "1.9418933573360928"
      ]
     },
     "execution_count": 26,
     "metadata": {},
     "output_type": "execute_result"
    }
   ],
   "source": [
    "portfolio_variance([0.3, 0.3, 0.2, 0.1, 0.1], stds, corr)"
   ]
  },
  {
   "cell_type": "code",
   "execution_count": 27,
   "metadata": {
    "scrolled": true
   },
   "outputs": [
    {
     "data": {
      "text/plain": [
       "1.276154732833452"
      ]
     },
     "execution_count": 27,
     "metadata": {},
     "output_type": "execute_result"
    }
   ],
   "source": [
    "portfolio_variance(best_weights, stds, corr)"
   ]
  },
  {
   "cell_type": "code",
   "execution_count": 28,
   "metadata": {},
   "outputs": [],
   "source": [
    "min_op = minimize(portfolio_variance, [0.2, 0.2, 0.2, 0.2, 0.2], args = (stds, corr),\n",
    "         method = \"SLSQP\", constraints = cons, bounds = bnds)"
   ]
  },
  {
   "cell_type": "code",
   "execution_count": 29,
   "metadata": {},
   "outputs": [],
   "source": [
    "best_weights = min_op.x.reshape(-1, 1)"
   ]
  },
  {
   "cell_type": "code",
   "execution_count": 30,
   "metadata": {},
   "outputs": [],
   "source": [
    "min_variance = min_op.fun"
   ]
  },
  {
   "cell_type": "code",
   "execution_count": 31,
   "metadata": {},
   "outputs": [
    {
     "name": "stdout",
     "output_type": "stream",
     "text": [
      "Best Weights to achieve minimum portfolio variance: [[0.001  ]\n",
      " [0.24975]\n",
      " [0.24975]\n",
      " [0.24975]\n",
      " [0.24975]]\n",
      "Minimum value of porfolio variance: 0.0064729778577869825\n"
     ]
    }
   ],
   "source": [
    "print(f\"Best Weights to achieve minimum portfolio variance: {best_weights}\")\n",
    "print(f\"Minimum value of porfolio variance: {float(min_variance)}\")"
   ]
  },
  {
   "cell_type": "code",
   "execution_count": 32,
   "metadata": {},
   "outputs": [
    {
     "name": "stdout",
     "output_type": "stream",
     "text": [
      "1.0000000000000246\n"
     ]
    }
   ],
   "source": [
    "print(np.sum(best_weights))"
   ]
  },
  {
   "cell_type": "code",
   "execution_count": 33,
   "metadata": {},
   "outputs": [
    {
     "data": {
      "text/plain": [
       "1.2945955715573954"
      ]
     },
     "execution_count": 33,
     "metadata": {},
     "output_type": "execute_result"
    }
   ],
   "source": [
    "portfolio_variance([0.2, 0.2, 0.2, 0.2, 0.2], stds, corr)"
   ]
  },
  {
   "cell_type": "code",
   "execution_count": 34,
   "metadata": {},
   "outputs": [
    {
     "data": {
      "text/plain": [
       "1.393618116369442"
      ]
     },
     "execution_count": 34,
     "metadata": {},
     "output_type": "execute_result"
    }
   ],
   "source": [
    "portfolio_variance(best_weights, stds, corr)"
   ]
  }
 ],
 "metadata": {
  "kernelspec": {
   "display_name": "Python 3",
   "language": "python",
   "name": "python3"
  },
  "language_info": {
   "codemirror_mode": {
    "name": "ipython",
    "version": 3
   },
   "file_extension": ".py",
   "mimetype": "text/x-python",
   "name": "python",
   "nbconvert_exporter": "python",
   "pygments_lexer": "ipython3",
   "version": "3.7.6"
  }
 },
 "nbformat": 4,
 "nbformat_minor": 4
}
